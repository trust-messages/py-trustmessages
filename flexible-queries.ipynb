{
 "cells": [
  {
   "cell_type": "code",
   "execution_count": 1,
   "metadata": {
    "collapsed": false
   },
   "outputs": [],
   "source": [
    "from pyasn1.type import univ, namedtype, namedval, tag, char\n",
    "from pyasn1.codec.ber import encoder\n",
    "from pyasn1.codec.ber import decoder\n",
    "from trustmessages import *\n",
    "import itertools"
   ]
  },
  {
   "cell_type": "code",
   "execution_count": 2,
   "metadata": {
    "collapsed": false
   },
   "outputs": [],
   "source": [
    "sq1 = Query()\n",
    "sq1[\"cmp\"] = Comparison()\n",
    "sq1[\"cmp\"][\"op\"] = \"lt\"\n",
    "sq1[\"cmp\"][\"value\"] = Value()\n",
    "sq1[\"cmp\"][\"value\"][\"date\"] = 50"
   ]
  },
  {
   "cell_type": "code",
   "execution_count": 3,
   "metadata": {
    "collapsed": false
   },
   "outputs": [],
   "source": [
    "sq2 = Query()\n",
    "sq2[\"log\"] = Logical()\n",
    "sq2[\"log\"][\"op\"] = \"and\"\n",
    "sq2[\"log\"][\"l\"] = Query()\n",
    "sq2[\"log\"][\"l\"][\"cmp\"] = Comparison()\n",
    "sq2[\"log\"][\"l\"][\"cmp\"][\"op\"] = \"eq\"\n",
    "sq2[\"log\"][\"l\"][\"cmp\"][\"value\"] = Value()\n",
    "sq2[\"log\"][\"l\"][\"cmp\"][\"value\"][\"source\"] = \"alice\"\n",
    "sq2[\"log\"][\"r\"] = Query()\n",
    "sq2[\"log\"][\"r\"][\"cmp\"] = Comparison()\n",
    "sq2[\"log\"][\"r\"][\"cmp\"][\"op\"] = \"eq\"\n",
    "sq2[\"log\"][\"r\"][\"cmp\"][\"value\"] = Value()\n",
    "sq2[\"log\"][\"r\"][\"cmp\"][\"value\"][\"target\"] = \"bob\""
   ]
  },
  {
   "cell_type": "code",
   "execution_count": 4,
   "metadata": {
    "collapsed": false
   },
   "outputs": [],
   "source": [
    "q = Query()\n",
    "q[\"log\"] = Logical()\n",
    "q[\"log\"][\"l\"] = Query()\n",
    "q[\"log\"][\"l\"][\"cmp\"] = Comparison()\n",
    "q[\"log\"][\"l\"][\"cmp\"][\"op\"] = \"eq\"\n",
    "q[\"log\"][\"l\"][\"cmp\"][\"value\"] = Value()\n",
    "q[\"log\"][\"l\"][\"cmp\"][\"value\"][\"service\"] = \"seller\"\n",
    "\n",
    "q[\"log\"][\"op\"] = \"and\"\n",
    "\n",
    "q[\"log\"][\"r\"] = Query()\n",
    "q[\"log\"][\"r\"][\"log\"] = Logical()\n",
    "q[\"log\"][\"r\"][\"log\"][\"op\"] = \"or\"\n",
    "q[\"log\"][\"r\"][\"log\"][\"l\"] = Query()\n",
    "q[\"log\"][\"r\"][\"log\"][\"l\"][\"cmp\"] = Comparison()\n",
    "q[\"log\"][\"r\"][\"log\"][\"l\"][\"cmp\"][\"op\"] = \"eq\"\n",
    "q[\"log\"][\"r\"][\"log\"][\"l\"][\"cmp\"][\"value\"] = Value()\n",
    "q[\"log\"][\"r\"][\"log\"][\"l\"][\"cmp\"][\"value\"][\"source\"] = \"charlie\"\n",
    "q[\"log\"][\"r\"][\"log\"][\"r\"] = Query()\n",
    "q[\"log\"][\"r\"][\"log\"][\"r\"][\"cmp\"] = Comparison()\n",
    "q[\"log\"][\"r\"][\"log\"][\"r\"][\"cmp\"][\"op\"] = \"eq\"\n",
    "q[\"log\"][\"r\"][\"log\"][\"r\"][\"cmp\"][\"value\"] = Value()\n",
    "q[\"log\"][\"r\"][\"log\"][\"r\"][\"cmp\"][\"value\"][\"source\"] = \"david\""
   ]
  },
  {
   "cell_type": "code",
   "execution_count": 5,
   "metadata": {
    "collapsed": false
   },
   "outputs": [],
   "source": [
    "substrate = encoder.encode(q)\n",
    "d, e = decoder.decode(substrate, asn1Spec=Query())\n",
    "assert(d == q)\n",
    "assert(q.prettyPrint() == d.prettyPrint())"
   ]
  },
  {
   "cell_type": "code",
   "execution_count": 6,
   "metadata": {
    "collapsed": true
   },
   "outputs": [],
   "source": [
    "qtm = QtmDb()"
   ]
  },
  {
   "cell_type": "code",
   "execution_count": 7,
   "metadata": {
    "collapsed": false
   },
   "outputs": [],
   "source": [
    "assert(all(t[\"date\"] < 50\n",
    "           for t in itertools.ifilter(trustutils.create_predicate(sq1), qtm.ASSESSMENT_DB)))"
   ]
  },
  {
   "cell_type": "code",
   "execution_count": 8,
   "metadata": {
    "collapsed": false,
    "scrolled": false
   },
   "outputs": [],
   "source": [
    "assert(all(t[\"source\"] == \"alice\" and t[\"target\"] == \"bob\"\n",
    "           for t in itertools.ifilter(trustutils.create_predicate(sq2), qtm.ASSESSMENT_DB)))"
   ]
  },
  {
   "cell_type": "code",
   "execution_count": 9,
   "metadata": {
    "collapsed": false
   },
   "outputs": [],
   "source": [
    "assert(all(t[\"service\"] == \"seller\" and (t[\"source\"] == \"charlie\" or t[\"source\"] == \"david\")\n",
    "           for t in itertools.ifilter(trustutils.create_predicate(q), qtm.ASSESSMENT_DB)))"
   ]
  }
 ],
 "metadata": {
  "kernelspec": {
   "display_name": "Python 2",
   "language": "python",
   "name": "python2"
  },
  "language_info": {
   "codemirror_mode": {
    "name": "ipython",
    "version": 2
   },
   "file_extension": ".py",
   "mimetype": "text/x-python",
   "name": "python",
   "nbconvert_exporter": "python",
   "pygments_lexer": "ipython2",
   "version": "2.7.12"
  }
 },
 "nbformat": 4,
 "nbformat_minor": 0
}
