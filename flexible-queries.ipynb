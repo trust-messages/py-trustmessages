{
 "cells": [
  {
   "cell_type": "code",
   "execution_count": 1,
   "metadata": {},
   "outputs": [],
   "source": [
    "from pyasn1.type import univ, namedtype, namedval, tag, char\n",
    "from pyasn1.codec.ber import encoder\n",
    "from pyasn1.codec.ber import decoder\n",
    "from trustmessages import *"
   ]
  },
  {
   "cell_type": "code",
   "execution_count": 2,
   "metadata": {},
   "outputs": [],
   "source": [
    "sq1 = Query()\n",
    "sq1[\"con\"] = Constraint()\n",
    "sq1[\"con\"][\"operator\"] = \"lt\"\n",
    "sq1[\"con\"][\"value\"] = Value()\n",
    "sq1[\"con\"][\"value\"][\"date\"] = 50"
   ]
  },
  {
   "cell_type": "code",
   "execution_count": 3,
   "metadata": {},
   "outputs": [],
   "source": [
    "sq2 = Query()\n",
    "sq2[\"exp\"] = Expression()\n",
    "sq2[\"exp\"][\"operator\"] = \"and\"\n",
    "sq2[\"exp\"][\"left\"] = Query()\n",
    "sq2[\"exp\"][\"left\"][\"con\"] = Constraint()\n",
    "sq2[\"exp\"][\"left\"][\"con\"][\"operator\"] = \"eq\"\n",
    "sq2[\"exp\"][\"left\"][\"con\"][\"value\"] = Value()\n",
    "sq2[\"exp\"][\"left\"][\"con\"][\"value\"][\"source\"] = \"alice\"\n",
    "sq2[\"exp\"][\"right\"] = Query()\n",
    "sq2[\"exp\"][\"right\"][\"con\"] = Constraint()\n",
    "sq2[\"exp\"][\"right\"][\"con\"][\"operator\"] = \"eq\"\n",
    "sq2[\"exp\"][\"right\"][\"con\"][\"value\"] = Value()\n",
    "sq2[\"exp\"][\"right\"][\"con\"][\"value\"][\"target\"] = \"bob\""
   ]
  },
  {
   "cell_type": "code",
   "execution_count": 4,
   "metadata": {},
   "outputs": [],
   "source": [
    "q = Query()\n",
    "q[\"exp\"] = Expression()\n",
    "q[\"exp\"][\"left\"] = Query()\n",
    "q[\"exp\"][\"left\"][\"con\"] = Constraint()\n",
    "q[\"exp\"][\"left\"][\"con\"][\"operator\"] = \"eq\"\n",
    "q[\"exp\"][\"left\"][\"con\"][\"value\"] = Value()\n",
    "q[\"exp\"][\"left\"][\"con\"][\"value\"][\"service\"] = \"seller\"\n",
    "\n",
    "q[\"exp\"][\"operator\"] = \"and\"\n",
    "\n",
    "q[\"exp\"][\"right\"] = Query()\n",
    "q[\"exp\"][\"right\"][\"exp\"] = Expression()\n",
    "q[\"exp\"][\"right\"][\"exp\"][\"operator\"] = \"or\"\n",
    "q[\"exp\"][\"right\"][\"exp\"][\"left\"] = Query()\n",
    "q[\"exp\"][\"right\"][\"exp\"][\"left\"][\"con\"] = Constraint()\n",
    "q[\"exp\"][\"right\"][\"exp\"][\"left\"][\"con\"][\"operator\"] = \"eq\"\n",
    "q[\"exp\"][\"right\"][\"exp\"][\"left\"][\"con\"][\"value\"] = Value()\n",
    "q[\"exp\"][\"right\"][\"exp\"][\"left\"][\"con\"][\"value\"][\"source\"] = \"charlie\"\n",
    "q[\"exp\"][\"right\"][\"exp\"][\"right\"] = Query()\n",
    "q[\"exp\"][\"right\"][\"exp\"][\"right\"][\"con\"] = Constraint()\n",
    "q[\"exp\"][\"right\"][\"exp\"][\"right\"][\"con\"][\"operator\"] = \"eq\"\n",
    "q[\"exp\"][\"right\"][\"exp\"][\"right\"][\"con\"][\"value\"] = Value()\n",
    "q[\"exp\"][\"right\"][\"exp\"][\"right\"][\"con\"][\"value\"][\"source\"] = \"david\""
   ]
  },
  {
   "cell_type": "code",
   "execution_count": 5,
   "metadata": {},
   "outputs": [],
   "source": [
    "substrate = encoder.encode(q)\n",
    "d, e = decoder.decode(substrate, asn1Spec=Query())\n",
    "assert(d == q)\n",
    "assert(q.prettyPrint() == d.prettyPrint())"
   ]
  },
  {
   "cell_type": "code",
   "execution_count": 6,
   "metadata": {},
   "outputs": [],
   "source": [
    "qtm = QtmDb()"
   ]
  },
  {
   "cell_type": "code",
   "execution_count": 7,
   "metadata": {},
   "outputs": [],
   "source": [
    "assert(all(t[\"date\"] < 50\n",
    "           for t in filter(trustutils.create_predicate(sq1), qtm.trust_db)))"
   ]
  },
  {
   "cell_type": "code",
   "execution_count": 8,
   "metadata": {
    "scrolled": false
   },
   "outputs": [],
   "source": [
    "assert(all(t[\"source\"] == \"alice\" and t[\"target\"] == \"bob\"\n",
    "           for t in filter(trustutils.create_predicate(sq2), qtm.assessment_db)))"
   ]
  },
  {
   "cell_type": "code",
   "execution_count": 9,
   "metadata": {},
   "outputs": [],
   "source": [
    "assert(all(t[\"service\"] == \"seller\" and (t[\"source\"] == \"charlie\" or t[\"source\"] == \"david\")\n",
    "           for t in filter(trustutils.create_predicate(q), qtm.assessment_db)))"
   ]
  }
 ],
 "metadata": {
  "kernelspec": {
   "display_name": "Python 3",
   "language": "python",
   "name": "python3"
  },
  "language_info": {
   "codemirror_mode": {
    "name": "ipython",
    "version": 3
   },
   "file_extension": ".py",
   "mimetype": "text/x-python",
   "name": "python",
   "nbconvert_exporter": "python",
   "pygments_lexer": "ipython3",
   "version": "3.6.6"
  }
 },
 "nbformat": 4,
 "nbformat_minor": 1
}
