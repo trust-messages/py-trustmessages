{
 "cells": [
  {
   "cell_type": "markdown",
   "metadata": {
    "deletable": true,
    "editable": true
   },
   "source": [
    "# Navodila\n",
    "Najprej poženi docker: `sudo docker start my-mongo`"
   ]
  },
  {
   "cell_type": "code",
   "execution_count": 1,
   "metadata": {
    "collapsed": false,
    "deletable": true,
    "editable": true
   },
   "outputs": [],
   "source": [
    "import pymongo\n",
    "from trustmessages import *\n",
    "from pyasn1.codec.ber import decoder"
   ]
  },
  {
   "cell_type": "code",
   "execution_count": 2,
   "metadata": {
    "collapsed": false,
    "deletable": true,
    "editable": true
   },
   "outputs": [],
   "source": [
    "# MongoDB\n",
    "client = pymongo.MongoClient()\n",
    "db = client.qtm\n",
    "col = db.assessments"
   ]
  },
  {
   "cell_type": "code",
   "execution_count": 3,
   "metadata": {
    "collapsed": false,
    "deletable": true,
    "editable": true
   },
   "outputs": [],
   "source": [
    "# Memory DB\n",
    "qtm_db = QtmDb()"
   ]
  },
  {
   "cell_type": "code",
   "execution_count": 4,
   "metadata": {
    "collapsed": true,
    "deletable": true,
    "editable": true
   },
   "outputs": [],
   "source": [
    "col.drop()"
   ]
  },
  {
   "cell_type": "code",
   "execution_count": 5,
   "metadata": {
    "collapsed": false,
    "deletable": true,
    "editable": true
   },
   "outputs": [],
   "source": [
    "for a in qtm_db.assessment_db:\n",
    "    record = {\n",
    "        # \"tms\": str(a[\"tms\"]),\n",
    "        \"source\": str(a[\"source\"]),\n",
    "        \"target\": str(a[\"target\"]),\n",
    "        \"service\": str(a[\"service\"]),\n",
    "        \"date\": int(a[\"date\"]),\n",
    "        # \"value\": decoder.decode(a[\"value\"], asn1Spec=qtm_db.AssessmentClass())[0].prettyPrint()[1:-1]\n",
    "        \"value\": a[\"value\"].prettyPrint()[1:-1]\n",
    "    }\n",
    "    col.insert_one(record)"
   ]
  },
  {
   "cell_type": "code",
   "execution_count": 6,
   "metadata": {
    "collapsed": false,
    "deletable": true,
    "editable": true
   },
   "outputs": [],
   "source": [
    "assert(col.count(create_mongo(create_query(\"date = 10\"))) == 1)"
   ]
  },
  {
   "cell_type": "code",
   "execution_count": 7,
   "metadata": {
    "collapsed": false,
    "deletable": true,
    "editable": true
   },
   "outputs": [],
   "source": [
    "assert(col.count(create_mongo(create_query(\"service = seller AND date >= 70 AND target = charlie\"))) == 1)"
   ]
  },
  {
   "cell_type": "code",
   "execution_count": 8,
   "metadata": {
    "collapsed": false,
    "deletable": true,
    "editable": true
   },
   "outputs": [],
   "source": [
    "assert(col.count(create_mongo(create_query(\"(service = seller AND date < 60) OR (service = renter AND date > 60)\"))) == 20)"
   ]
  }
 ],
 "metadata": {
  "kernelspec": {
   "display_name": "Python 3",
   "language": "python",
   "name": "python3"
  },
  "language_info": {
   "codemirror_mode": {
    "name": "ipython",
    "version": 3
   },
   "file_extension": ".py",
   "mimetype": "text/x-python",
   "name": "python",
   "nbconvert_exporter": "python",
   "pygments_lexer": "ipython3",
   "version": "3.5.2"
  }
 },
 "nbformat": 4,
 "nbformat_minor": 0
}
