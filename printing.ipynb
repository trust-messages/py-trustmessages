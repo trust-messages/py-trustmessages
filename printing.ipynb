{
 "cells": [
  {
   "cell_type": "code",
   "execution_count": 1,
   "metadata": {
    "collapsed": false
   },
   "outputs": [],
   "source": [
    "from time import time\n",
    "from pyasn1.type import univ, char, tag, namedtype, constraint, namedval\n",
    "from pyasn1.codec.ber import encoder, decoder\n",
    "from trustmessages import *\n",
    "from asn1ate import parser, sema, pyasn1gen\n",
    "import random\n",
    "import StringIO"
   ]
  },
  {
   "cell_type": "code",
   "execution_count": 2,
   "metadata": {
    "collapsed": false
   },
   "outputs": [],
   "source": [
    "SCHEMA = \"\"\"QTM DEFINITIONS ::= BEGIN\n",
    "QualitativeValue ::= ENUMERATED {\n",
    "    very-bad (0), bad (1), neutral (2), good (3), very-good (4)\n",
    "}\n",
    "\n",
    "SL ::= SEQUENCE {\n",
    "    b REAL, d REAL, u REAL\n",
    "}\n",
    "\n",
    "END\"\"\"\n",
    "\n",
    "# parse the schema with asn1ate\n",
    "_parse_tree = parser.parse_asn1(SCHEMA)\n",
    "_modules = sema.build_semantic_model(_parse_tree)\n",
    "_clazz_stream = StringIO.StringIO()\n",
    "pyasn1gen.generate_pyasn1(_modules[0], _clazz_stream)\n",
    "_clazz = _clazz_stream.getvalue()\n",
    "# execute class in this context\n",
    "exec(_clazz)"
   ]
  },
  {
   "cell_type": "code",
   "execution_count": 3,
   "metadata": {
    "collapsed": false
   },
   "outputs": [],
   "source": [
    "r = Assessment()\n",
    "r[\"tms\"] = univ.ObjectIdentifier((2, 2, 2))\n",
    "r[\"source\"] = \"djelenc@gmail.com\"\n",
    "r[\"target\"] = \"david.jelenc@fri.uni-lj.si\"\n",
    "r[\"service\"] = \"seller\"\n",
    "r[\"date\"] = time()\n",
    "r[\"value\"] = encoder.encode(QualitativeValue(\"very-good\"))\n",
    "\n",
    "decoded, _ = decoder.decode(encoder.encode(r), asn1Spec=Assessment())\n",
    "assert(r.prettyPrint() == decoded.prettyPrint())\n",
    "v, _ = decoder.decode(decoded[\"value\"], asn1Spec=QualitativeValue())"
   ]
  },
  {
   "cell_type": "code",
   "execution_count": 4,
   "metadata": {
    "collapsed": false
   },
   "outputs": [],
   "source": [
    "text = \"service = seller AND source = david@fri.si AND (target = balu@fri.si OR target = aleks@fri.si)\""
   ]
  },
  {
   "cell_type": "code",
   "execution_count": 5,
   "metadata": {
    "collapsed": false,
    "scrolled": false
   },
   "outputs": [
    {
     "data": {
      "text/plain": [
       "0.8936170212765957"
      ]
     },
     "execution_count": 5,
     "metadata": {},
     "output_type": "execute_result"
    }
   ],
   "source": [
    "q = trustutils.create_query(text)\n",
    "s = encoder.encode(q)\n",
    "float(len(s)) / len(text)"
   ]
  },
  {
   "cell_type": "code",
   "execution_count": 6,
   "metadata": {
    "collapsed": false
   },
   "outputs": [],
   "source": [
    "qtm = trustdatabase.QtmDb()\n",
    "sl = trustdatabase.SLDb()"
   ]
  },
  {
   "cell_type": "code",
   "execution_count": 7,
   "metadata": {
    "collapsed": false
   },
   "outputs": [
    {
     "name": "stdout",
     "output_type": "stream",
     "text": [
      "Assessment:\n",
      " tms=1.1.1\n",
      " source=alice\n",
      " target=bob\n",
      " service=buyer\n",
      " date=0\n",
      " value='very-bad'\n",
      "Assessment:\n",
      " tms=2.2.2\n",
      " source=alice\n",
      " target=bob\n",
      " service=buyer\n",
      " date=0\n",
      " value=<b=0.97, d=0.01, u=0.02>\n"
     ]
    }
   ],
   "source": [
    "print trustdatabase.InMemoryTrustDatabase.pp(qtm.ASSESSMENT_DB[0])\n",
    "print trustdatabase.InMemoryTrustDatabase.pp(sl.ASSESSMENT_DB[0])"
   ]
  },
  {
   "cell_type": "code",
   "execution_count": 8,
   "metadata": {
    "collapsed": false
   },
   "outputs": [
    {
     "name": "stdout",
     "output_type": "stream",
     "text": [
      "<b=0.00, d=0.00, u=0.00>\n"
     ]
    }
   ],
   "source": [
    "x = trustdatabase.SLDb().TrustClass()\n",
    "#x[\"b\"] = 0.7\n",
    "#x[\"d\"] = 0.2\n",
    "#x[\"u\"] = 0.1\n",
    "print x.prettyPrint()"
   ]
  },
  {
   "cell_type": "code",
   "execution_count": 9,
   "metadata": {
    "collapsed": true
   },
   "outputs": [],
   "source": [
    "import base64"
   ]
  },
  {
   "cell_type": "code",
   "execution_count": 10,
   "metadata": {
    "collapsed": false,
    "scrolled": false
   },
   "outputs": [
    {
     "name": "stdout",
     "output_type": "stream",
     "text": [
      "Message:\n",
      " assessment-request=AssessmentRequest:\n",
      "  rid=1\n",
      "  query=Query:\n",
      "   log=Logical:\n",
      "    op='and'\n",
      "    l=Query:\n",
      "     log=Logical:\n",
      "      op='and'\n",
      "      l=Query:\n",
      "       cmp=Comparison:\n",
      "        op='eq'\n",
      "        value=Value:\n",
      "         source=david\n",
      "      r=Query:\n",
      "       log=Logical:\n",
      "        op='or'\n",
      "        l=Query:\n",
      "         cmp=Comparison:\n",
      "          op='eq'\n",
      "          value=Value:\n",
      "           service=seller\n",
      "        r=Query:\n",
      "         cmp=Comparison:\n",
      "          op='eq'\n",
      "          value=Value:\n",
      "           service=letter\n",
      "    r=Query:\n",
      "     log=Logical:\n",
      "      op='or'\n",
      "      l=Query:\n",
      "       cmp=Comparison:\n",
      "        op='eq'\n",
      "        value=Value:\n",
      "         target=balu\n",
      "      r=Query:\n",
      "       cmp=Comparison:\n",
      "        op='eq'\n",
      "        value=Value:\n",
      "         target=aleks\n"
     ]
    }
   ],
   "source": [
    "bytes = base64.b64decode(\"ZlQCAQFlTwoBAGUuCgEAZAoKAQBABWRhdmlkZR0KAQFkCwoBAEMGc2VsbGVyZAsKAQBDBmxldHRlcmUaCgEBZAkKAQBBBGJhbHVkCgoBAEEFYWxla3M=\")\n",
    "m, _ = decoder.decode(bytes, asn1Spec=Message())\n",
    "print pp(m)"
   ]
  },
  {
   "cell_type": "code",
   "execution_count": 11,
   "metadata": {
    "collapsed": true
   },
   "outputs": [],
   "source": [
    "encode = lambda m: base64.b64encode(encoder.encode(m))\n",
    "decode = lambda m: base64.b64decode(m)\n",
    "to_bytes = lambda s: \":\".join(\"{:02x}\".format(ord(c)) for c in s)"
   ]
  },
  {
   "cell_type": "code",
   "execution_count": 12,
   "metadata": {
    "collapsed": false
   },
   "outputs": [
    {
     "data": {
      "text/plain": [
       "('0!\\t\\t\\x80\\xc9\\x0c\\xcc\\xcc\\xcc\\xcc\\xcc\\xcd\\t\\t\\x80\\xca\\x0c\\xcc\\xcc\\xcc\\xcc\\xcc\\xcd\\t\\t\\x80\\xcc\\x0b333333',\n",
       " '0\\x15\\t\\x05\\x031E-1\\t\\x05\\x032E-1\\t\\x05\\x037E-1')"
      ]
     },
     "execution_count": 12,
     "metadata": {},
     "output_type": "execute_result"
    }
   ],
   "source": [
    "bdu = SL()\n",
    "bdu[\"b\"] = 0.1\n",
    "bdu[\"d\"] = 0.2\n",
    "bdu[\"u\"] = 0.7\n",
    "\n",
    "bdu2 = \"MCEJCYDJDMzMzMzMzQkJgMoMzMzMzMzNCQmAzAszMzMzMzM=\"\n",
    "decode(bdu2), encoder.encode(bdu)"
   ]
  },
  {
   "cell_type": "code",
   "execution_count": 13,
   "metadata": {
    "collapsed": false
   },
   "outputs": [
    {
     "data": {
      "text/plain": [
       "'aR4GAikBEwVhbGljZRMDYm9iEwZzZWxsZXICAQoKAQA='"
      ]
     },
     "execution_count": 13,
     "metadata": {},
     "output_type": "execute_result"
    }
   ],
   "source": [
    "a = Assessment()\n",
    "a[\"tms\"] = (1, 1, 1)\n",
    "a[\"source\"] = \"alice\"\n",
    "a[\"target\"] = \"bob\"\n",
    "a[\"service\"] = \"seller\"\n",
    "a[\"date\"] = 10\n",
    "a[\"value\"] = encoder.encode(QualitativeValue(\"very-bad\"))\n",
    "encoded = encode(a)\n",
    "encoded"
   ]
  },
  {
   "cell_type": "code",
   "execution_count": 14,
   "metadata": {
    "collapsed": false
   },
   "outputs": [
    {
     "name": "stdout",
     "output_type": "stream",
     "text": [
      "Assessment:\n",
      " tms=1.1.1\n",
      " source=alice\n",
      " target=bob\n",
      " service=seller\n",
      " date=10\n",
      " value=0x0a0100\n"
     ]
    }
   ],
   "source": [
    "v, _ = decoder.decode(base64.b64decode(encoded), asn1Spec=Assessment())\n",
    "print pp(v)"
   ]
  },
  {
   "cell_type": "code",
   "execution_count": 15,
   "metadata": {
    "collapsed": false
   },
   "outputs": [
    {
     "name": "stdout",
     "output_type": "stream",
     "text": [
      "0a:01:01 0a:01:01\n"
     ]
    }
   ],
   "source": [
    "qtm = QualitativeValue(\"bad\")\n",
    "print to_bytes(decode(\"CgEB\")), to_bytes(encoder.encode(qtm))"
   ]
  }
 ],
 "metadata": {
  "kernelspec": {
   "display_name": "Python 2",
   "language": "python",
   "name": "python2"
  },
  "language_info": {
   "codemirror_mode": {
    "name": "ipython",
    "version": 2
   },
   "file_extension": ".py",
   "mimetype": "text/x-python",
   "name": "python",
   "nbconvert_exporter": "python",
   "pygments_lexer": "ipython2",
   "version": "2.7.12"
  }
 },
 "nbformat": 4,
 "nbformat_minor": 0
}
