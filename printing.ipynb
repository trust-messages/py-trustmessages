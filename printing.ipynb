{
 "cells": [
  {
   "cell_type": "code",
   "execution_count": 1,
   "metadata": {
    "collapsed": false,
    "deletable": true,
    "editable": true
   },
   "outputs": [],
   "source": [
    "from time import time\n",
    "from pyasn1.type import univ, char, tag, namedtype, constraint, namedval\n",
    "from pyasn1.codec.ber import encoder, decoder\n",
    "from trustmessages import *\n",
    "from asn1ate import parser, sema, pyasn1gen\n",
    "import random\n",
    "from io import StringIO"
   ]
  },
  {
   "cell_type": "code",
   "execution_count": 2,
   "metadata": {
    "collapsed": false,
    "deletable": true,
    "editable": true
   },
   "outputs": [],
   "source": [
    "SCHEMA = \"\"\"QTM DEFINITIONS ::= BEGIN\n",
    "QualitativeValue ::= ENUMERATED {\n",
    "    very-bad (0), bad (1), neutral (2), good (3), very-good (4)\n",
    "}\n",
    "\n",
    "SL ::= SEQUENCE {\n",
    "    b REAL, d REAL, u REAL\n",
    "}\n",
    "\n",
    "END\"\"\"\n",
    "\n",
    "# parse the schema with asn1ate\n",
    "_parse_tree = parser.parse_asn1(SCHEMA)\n",
    "_modules = sema.build_semantic_model(_parse_tree)\n",
    "_clazz_stream = StringIO()\n",
    "pyasn1gen.generate_pyasn1(_modules[0], _clazz_stream)\n",
    "_clazz = _clazz_stream.getvalue()\n",
    "# execute class in this context\n",
    "exec(_clazz)"
   ]
  },
  {
   "cell_type": "code",
   "execution_count": 3,
   "metadata": {
    "collapsed": false,
    "deletable": true,
    "editable": true
   },
   "outputs": [],
   "source": [
    "r = Rating()\n",
    "# r[\"tms\"] = univ.ObjectIdentifier((2, 2, 2))\n",
    "r[\"source\"] = \"djelenc@gmail.com\"\n",
    "r[\"target\"] = \"david.jelenc@fri.uni-lj.si\"\n",
    "r[\"service\"] = \"seller\"\n",
    "r[\"date\"] = time()\n",
    "r[\"value\"] = encoder.encode(QualitativeValue(\"very-good\"))\n",
    "\n",
    "decoded, _ = decoder.decode(encoder.encode(r), asn1Spec=Rating())\n",
    "assert(r.prettyPrint() == decoded.prettyPrint())\n",
    "v, _ = decoder.decode(decoded[\"value\"], asn1Spec=QualitativeValue())"
   ]
  },
  {
   "cell_type": "code",
   "execution_count": 4,
   "metadata": {
    "collapsed": false,
    "deletable": true,
    "editable": true
   },
   "outputs": [],
   "source": [
    "text = \"service = seller AND source = david@fri.si AND (target = balu@fri.si OR target = aleks@fri.si)\""
   ]
  },
  {
   "cell_type": "code",
   "execution_count": 5,
   "metadata": {
    "collapsed": false,
    "deletable": true,
    "editable": true,
    "scrolled": false
   },
   "outputs": [
    {
     "data": {
      "text/plain": [
       "0.8936170212765957"
      ]
     },
     "execution_count": 5,
     "metadata": {},
     "output_type": "execute_result"
    }
   ],
   "source": [
    "q = trustutils.create_query(text)\n",
    "s = encoder.encode(q)\n",
    "float(len(s)) / len(text)"
   ]
  },
  {
   "cell_type": "code",
   "execution_count": 6,
   "metadata": {
    "collapsed": false,
    "deletable": true,
    "editable": true
   },
   "outputs": [],
   "source": [
    "qtm = trustdatabase.QtmDb()\n",
    "sl = trustdatabase.SLDb()"
   ]
  },
  {
   "cell_type": "markdown",
   "metadata": {
    "deletable": true,
    "editable": true
   },
   "source": [
    "***To spodaj ne dela več, ker iz same ocene oz. zaupanja ni več moče ugotoviti formata***"
   ]
  },
  {
   "cell_type": "code",
   "execution_count": 7,
   "metadata": {
    "collapsed": false,
    "deletable": true,
    "editable": true
   },
   "outputs": [
    {
     "ename": "AttributeError",
     "evalue": "'QtmDb' object has no attribute 'ASSESSMENT_DB'",
     "output_type": "error",
     "traceback": [
      "\u001b[0;31m---------------------------------------------------------------------------\u001b[0m",
      "\u001b[0;31mAttributeError\u001b[0m                            Traceback (most recent call last)",
      "\u001b[0;32m<ipython-input-7-8bee83aa3c71>\u001b[0m in \u001b[0;36m<module>\u001b[0;34m()\u001b[0m\n\u001b[0;32m----> 1\u001b[0;31m \u001b[0mprint\u001b[0m\u001b[0;34m(\u001b[0m\u001b[0mtrustdatabase\u001b[0m\u001b[0;34m.\u001b[0m\u001b[0mInMemoryTrustDatabase\u001b[0m\u001b[0;34m.\u001b[0m\u001b[0mpp\u001b[0m\u001b[0;34m(\u001b[0m\u001b[0mqtm\u001b[0m\u001b[0;34m.\u001b[0m\u001b[0mASSESSMENT_DB\u001b[0m\u001b[0;34m[\u001b[0m\u001b[0;36m0\u001b[0m\u001b[0;34m]\u001b[0m\u001b[0;34m)\u001b[0m\u001b[0;34m)\u001b[0m\u001b[0;34m\u001b[0m\u001b[0m\n\u001b[0m\u001b[1;32m      2\u001b[0m \u001b[0mprint\u001b[0m\u001b[0;34m(\u001b[0m\u001b[0mtrustdatabase\u001b[0m\u001b[0;34m.\u001b[0m\u001b[0mInMemoryTrustDatabase\u001b[0m\u001b[0;34m.\u001b[0m\u001b[0mpp\u001b[0m\u001b[0;34m(\u001b[0m\u001b[0msl\u001b[0m\u001b[0;34m.\u001b[0m\u001b[0mASSESSMENT_DB\u001b[0m\u001b[0;34m[\u001b[0m\u001b[0;36m0\u001b[0m\u001b[0;34m]\u001b[0m\u001b[0;34m)\u001b[0m\u001b[0;34m)\u001b[0m\u001b[0;34m\u001b[0m\u001b[0m\n",
      "\u001b[0;31mAttributeError\u001b[0m: 'QtmDb' object has no attribute 'ASSESSMENT_DB'"
     ]
    }
   ],
   "source": [
    "print(trustdatabase.InMemoryTrustDatabase.pp(qtm.ASSESSMENT_DB[0]))\n",
    "print(trustdatabase.InMemoryTrustDatabase.pp(sl.ASSESSMENT_DB[0]))"
   ]
  },
  {
   "cell_type": "code",
   "execution_count": null,
   "metadata": {
    "collapsed": false,
    "deletable": true,
    "editable": true
   },
   "outputs": [],
   "source": [
    "x = trustdatabase.SLDb().TrustClass()\n",
    "#x[\"b\"] = 0.7\n",
    "#x[\"d\"] = 0.2\n",
    "#x[\"u\"] = 0.1\n",
    "print x.prettyPrint()"
   ]
  },
  {
   "cell_type": "code",
   "execution_count": null,
   "metadata": {
    "collapsed": true,
    "deletable": true,
    "editable": true
   },
   "outputs": [],
   "source": [
    "import base64"
   ]
  },
  {
   "cell_type": "code",
   "execution_count": null,
   "metadata": {
    "collapsed": false,
    "deletable": true,
    "editable": true,
    "scrolled": false
   },
   "outputs": [],
   "source": [
    "bytes = base64.b64decode(\"ZlQCAQFlTwoBAGUuCgEAZAoKAQBABWRhdmlkZR0KAQFkCwoBAEMGc2VsbGVyZAsKAQBDBmxldHRlcmUaCgEBZAkKAQBBBGJhbHVkCgoBAEEFYWxla3M=\")\n",
    "m, _ = decoder.decode(bytes, asn1Spec=Message())\n",
    "print pp(m)"
   ]
  },
  {
   "cell_type": "code",
   "execution_count": null,
   "metadata": {
    "collapsed": false,
    "deletable": true,
    "editable": true
   },
   "outputs": [],
   "source": [
    "encode = lambda m: base64.b64encode(encoder.encode(m))\n",
    "decode = lambda m: base64.b64decode(m)\n",
    "to_bytes = lambda s: \":\".join(\"{:02x}\".format(ord(c)) for c in s)"
   ]
  },
  {
   "cell_type": "code",
   "execution_count": null,
   "metadata": {
    "collapsed": false,
    "deletable": true,
    "editable": true
   },
   "outputs": [],
   "source": [
    "bdu = SL()\n",
    "bdu[\"b\"] = 0.1\n",
    "bdu[\"d\"] = 0.2\n",
    "bdu[\"u\"] = 0.7\n",
    "\n",
    "bdu2 = \"MCEJCYDJDMzMzMzMzQkJgMoMzMzMzMzNCQmAzAszMzMzMzM=\"\n",
    "decode(bdu2), encoder.encode(bdu)"
   ]
  },
  {
   "cell_type": "code",
   "execution_count": null,
   "metadata": {
    "collapsed": false,
    "deletable": true,
    "editable": true
   },
   "outputs": [],
   "source": [
    "a = Assessment()\n",
    "a[\"tms\"] = (1, 1, 1)\n",
    "a[\"source\"] = \"alice\"\n",
    "a[\"target\"] = \"bob\"\n",
    "a[\"service\"] = \"seller\"\n",
    "a[\"date\"] = 10\n",
    "a[\"value\"] = encoder.encode(QualitativeValue(\"very-bad\"))\n",
    "encoded = encode(a)\n",
    "encoded"
   ]
  },
  {
   "cell_type": "code",
   "execution_count": null,
   "metadata": {
    "collapsed": false,
    "deletable": true,
    "editable": true
   },
   "outputs": [],
   "source": [
    "v, _ = decoder.decode(base64.b64decode(encoded), asn1Spec=Assessment())\n",
    "print pp(v)"
   ]
  },
  {
   "cell_type": "code",
   "execution_count": null,
   "metadata": {
    "collapsed": false,
    "deletable": true,
    "editable": true
   },
   "outputs": [],
   "source": [
    "qtm = QualitativeValue(\"bad\")\n",
    "print to_bytes(decode(\"CgEB\")), to_bytes(encoder.encode(qtm))"
   ]
  }
 ],
 "metadata": {
  "kernelspec": {
   "display_name": "Python 3",
   "language": "python",
   "name": "python3"
  },
  "language_info": {
   "codemirror_mode": {
    "name": "ipython",
    "version": 3
   },
   "file_extension": ".py",
   "mimetype": "text/x-python",
   "name": "python",
   "nbconvert_exporter": "python",
   "pygments_lexer": "ipython3",
   "version": "3.5.2"
  }
 },
 "nbformat": 4,
 "nbformat_minor": 0
}
