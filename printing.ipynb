{
 "cells": [
  {
   "cell_type": "code",
   "execution_count": 1,
   "metadata": {
    "collapsed": false
   },
   "outputs": [],
   "source": [
    "from time import time\n",
    "from pyasn1.type import univ, char, tag, namedtype, constraint, namedval\n",
    "from pyasn1.codec.ber import encoder, decoder\n",
    "from trustmessages import *\n",
    "from asn1ate import parser, sema, pyasn1gen\n",
    "import random\n",
    "import StringIO"
   ]
  },
  {
   "cell_type": "code",
   "execution_count": 2,
   "metadata": {
    "collapsed": false
   },
   "outputs": [],
   "source": [
    "SCHEMA = \"\"\"QTM DEFINITIONS ::= BEGIN\n",
    "QualitativeValue ::= ENUMERATED {\n",
    "    very-bad (0), bad (1), neutral (2), good (3), very-good (4)\n",
    "}\n",
    "\n",
    "SL ::= SEQUENCE {\n",
    "    b REAL, d REAL, u REAL\n",
    "}\n",
    "\n",
    "END\"\"\"\n",
    "\n",
    "# parse the schema with asn1ate\n",
    "_parse_tree = parser.parse_asn1(SCHEMA)\n",
    "_modules = sema.build_semantic_model(_parse_tree)\n",
    "_clazz_stream = StringIO.StringIO()\n",
    "pyasn1gen.generate_pyasn1(_modules[0], _clazz_stream)\n",
    "_clazz = _clazz_stream.getvalue()\n",
    "# execute class in this context\n",
    "exec(_clazz)"
   ]
  },
  {
   "cell_type": "code",
   "execution_count": 3,
   "metadata": {
    "collapsed": false
   },
   "outputs": [],
   "source": [
    "r = Assessment()\n",
    "# r[\"tms\"] = univ.ObjectIdentifier((2, 2, 2))\n",
    "r[\"source\"] = \"djelenc@gmail.com\"\n",
    "r[\"target\"] = \"david.jelenc@fri.uni-lj.si\"\n",
    "r[\"service\"] = \"seller\"\n",
    "r[\"date\"] = time()\n",
    "r[\"value\"] = encoder.encode(QualitativeValue(\"very-good\"))\n",
    "\n",
    "decoded, _ = decoder.decode(encoder.encode(r), asn1Spec=Assessment())\n",
    "assert(r.prettyPrint() == decoded.prettyPrint())\n",
    "v, _ = decoder.decode(decoded[\"value\"], asn1Spec=QualitativeValue())"
   ]
  },
  {
   "cell_type": "code",
   "execution_count": 4,
   "metadata": {
    "collapsed": false
   },
   "outputs": [],
   "source": [
    "text = \"service = seller AND source = david@fri.si AND (target = balu@fri.si OR target = aleks@fri.si)\""
   ]
  },
  {
   "cell_type": "code",
   "execution_count": 5,
   "metadata": {
    "collapsed": false,
    "scrolled": false
   },
   "outputs": [
    {
     "data": {
      "text/plain": [
       "0.8936170212765957"
      ]
     },
     "execution_count": 5,
     "metadata": {},
     "output_type": "execute_result"
    }
   ],
   "source": [
    "q = trustutils.create_query(text)\n",
    "s = encoder.encode(q)\n",
    "float(len(s)) / len(text)"
   ]
  },
  {
   "cell_type": "code",
   "execution_count": 6,
   "metadata": {
    "collapsed": false
   },
   "outputs": [],
   "source": [
    "qtm = trustdatabase.QtmDb()\n",
    "sl = trustdatabase.SLDb()"
   ]
  },
  {
   "cell_type": "markdown",
   "metadata": {},
   "source": [
    "***To spodaj ne dela več, ker iz same ocene oz. zaupanja ni več moče ugotoviti formata***"
   ]
  },
  {
   "cell_type": "code",
   "execution_count": 7,
   "metadata": {
    "collapsed": false
   },
   "outputs": [
    {
     "ename": "PyAsn1Error",
     "evalue": "Name format not found",
     "output_type": "error",
     "traceback": [
      "\u001b[1;31m---------------------------------------------------------------------------\u001b[0m",
      "\u001b[1;31mPyAsn1Error\u001b[0m                               Traceback (most recent call last)",
      "\u001b[1;32m<ipython-input-7-551cf32f73f6>\u001b[0m in \u001b[0;36m<module>\u001b[1;34m()\u001b[0m\n\u001b[1;32m----> 1\u001b[1;33m \u001b[1;32mprint\u001b[0m \u001b[0mtrustdatabase\u001b[0m\u001b[1;33m.\u001b[0m\u001b[0mInMemoryTrustDatabase\u001b[0m\u001b[1;33m.\u001b[0m\u001b[0mpp\u001b[0m\u001b[1;33m(\u001b[0m\u001b[0mqtm\u001b[0m\u001b[1;33m.\u001b[0m\u001b[0mASSESSMENT_DB\u001b[0m\u001b[1;33m[\u001b[0m\u001b[1;36m0\u001b[0m\u001b[1;33m]\u001b[0m\u001b[1;33m)\u001b[0m\u001b[1;33m\u001b[0m\u001b[0m\n\u001b[0m\u001b[0;32m      2\u001b[0m \u001b[1;32mprint\u001b[0m \u001b[0mtrustdatabase\u001b[0m\u001b[1;33m.\u001b[0m\u001b[0mInMemoryTrustDatabase\u001b[0m\u001b[1;33m.\u001b[0m\u001b[0mpp\u001b[0m\u001b[1;33m(\u001b[0m\u001b[0msl\u001b[0m\u001b[1;33m.\u001b[0m\u001b[0mASSESSMENT_DB\u001b[0m\u001b[1;33m[\u001b[0m\u001b[1;36m0\u001b[0m\u001b[1;33m]\u001b[0m\u001b[1;33m)\u001b[0m\u001b[1;33m\u001b[0m\u001b[0m\n",
      "\u001b[1;32m/home/david/Development/python/py-trustmessages/trustmessages/trustdatabase.pyc\u001b[0m in \u001b[0;36mpp\u001b[1;34m(m)\u001b[0m\n\u001b[0;32m     23\u001b[0m \u001b[1;33m\u001b[0m\u001b[0m\n\u001b[0;32m     24\u001b[0m                 \u001b[1;32mif\u001b[0m \u001b[0mhit\u001b[0m \u001b[1;33m>\u001b[0m \u001b[1;33m-\u001b[0m\u001b[1;36m1\u001b[0m\u001b[1;33m:\u001b[0m\u001b[1;33m\u001b[0m\u001b[0m\n\u001b[1;32m---> 25\u001b[1;33m                     \u001b[0mv\u001b[0m\u001b[1;33m,\u001b[0m \u001b[0m_\u001b[0m \u001b[1;33m=\u001b[0m \u001b[0mdecoder\u001b[0m\u001b[1;33m.\u001b[0m\u001b[0mdecode\u001b[0m\u001b[1;33m(\u001b[0m\u001b[0mm\u001b[0m\u001b[1;33m[\u001b[0m\u001b[1;34m\"value\"\u001b[0m\u001b[1;33m]\u001b[0m\u001b[1;33m,\u001b[0m \u001b[0masn1Spec\u001b[0m\u001b[1;33m=\u001b[0m\u001b[0mInMemoryTrustDatabase\u001b[0m\u001b[1;33m.\u001b[0m\u001b[0mSYSTEMS\u001b[0m\u001b[1;33m[\u001b[0m\u001b[0mm\u001b[0m\u001b[1;33m[\u001b[0m\u001b[1;34m\"format\"\u001b[0m\u001b[1;33m]\u001b[0m\u001b[1;33m]\u001b[0m\u001b[1;33m[\u001b[0m\u001b[1;34m\"trust\"\u001b[0m\u001b[1;33m]\u001b[0m\u001b[1;33m(\u001b[0m\u001b[1;33m)\u001b[0m\u001b[1;33m)\u001b[0m\u001b[1;33m\u001b[0m\u001b[0m\n\u001b[0m\u001b[0;32m     26\u001b[0m                     \u001b[0mbuff\u001b[0m\u001b[1;33m.\u001b[0m\u001b[0mwrite\u001b[0m\u001b[1;33m(\u001b[0m\u001b[0mline\u001b[0m\u001b[1;33m[\u001b[0m\u001b[1;33m:\u001b[0m\u001b[0mhit\u001b[0m \u001b[1;33m+\u001b[0m \u001b[1;36m6\u001b[0m\u001b[1;33m]\u001b[0m\u001b[1;33m)\u001b[0m\u001b[1;33m\u001b[0m\u001b[0m\n\u001b[0;32m     27\u001b[0m                     \u001b[0mbuff\u001b[0m\u001b[1;33m.\u001b[0m\u001b[0mwrite\u001b[0m\u001b[1;33m(\u001b[0m\u001b[0mv\u001b[0m\u001b[1;33m.\u001b[0m\u001b[0mprettyPrint\u001b[0m\u001b[1;33m(\u001b[0m\u001b[1;33m)\u001b[0m\u001b[1;33m)\u001b[0m\u001b[1;33m\u001b[0m\u001b[0m\n",
      "\u001b[1;32m/usr/local/lib/python2.7/dist-packages/pyasn1/type/univ.pyc\u001b[0m in \u001b[0;36m__getitem__\u001b[1;34m(self, idx)\u001b[0m\n\u001b[0;32m    816\u001b[0m     \u001b[1;32mdef\u001b[0m \u001b[0m__getitem__\u001b[0m\u001b[1;33m(\u001b[0m\u001b[0mself\u001b[0m\u001b[1;33m,\u001b[0m \u001b[0midx\u001b[0m\u001b[1;33m)\u001b[0m\u001b[1;33m:\u001b[0m\u001b[1;33m\u001b[0m\u001b[0m\n\u001b[0;32m    817\u001b[0m         \u001b[1;32mif\u001b[0m \u001b[0misinstance\u001b[0m\u001b[1;33m(\u001b[0m\u001b[0midx\u001b[0m\u001b[1;33m,\u001b[0m \u001b[0mstr\u001b[0m\u001b[1;33m)\u001b[0m\u001b[1;33m:\u001b[0m\u001b[1;33m\u001b[0m\u001b[0m\n\u001b[1;32m--> 818\u001b[1;33m             \u001b[1;32mreturn\u001b[0m \u001b[0mself\u001b[0m\u001b[1;33m.\u001b[0m\u001b[0mgetComponentByName\u001b[0m\u001b[1;33m(\u001b[0m\u001b[0midx\u001b[0m\u001b[1;33m)\u001b[0m\u001b[1;33m\u001b[0m\u001b[0m\n\u001b[0m\u001b[0;32m    819\u001b[0m         \u001b[1;32melse\u001b[0m\u001b[1;33m:\u001b[0m\u001b[1;33m\u001b[0m\u001b[0m\n\u001b[0;32m    820\u001b[0m             \u001b[1;32mreturn\u001b[0m \u001b[0mbase\u001b[0m\u001b[1;33m.\u001b[0m\u001b[0mAbstractConstructedAsn1Item\u001b[0m\u001b[1;33m.\u001b[0m\u001b[0m__getitem__\u001b[0m\u001b[1;33m(\u001b[0m\u001b[0mself\u001b[0m\u001b[1;33m,\u001b[0m \u001b[0midx\u001b[0m\u001b[1;33m)\u001b[0m\u001b[1;33m\u001b[0m\u001b[0m\n",
      "\u001b[1;32m/usr/local/lib/python2.7/dist-packages/pyasn1/type/univ.pyc\u001b[0m in \u001b[0;36mgetComponentByName\u001b[1;34m(self, name)\u001b[0m\n\u001b[0;32m    853\u001b[0m     \u001b[1;32mdef\u001b[0m \u001b[0mgetComponentByName\u001b[0m\u001b[1;33m(\u001b[0m\u001b[0mself\u001b[0m\u001b[1;33m,\u001b[0m \u001b[0mname\u001b[0m\u001b[1;33m)\u001b[0m\u001b[1;33m:\u001b[0m\u001b[1;33m\u001b[0m\u001b[0m\n\u001b[0;32m    854\u001b[0m         return self.getComponentByPosition(\n\u001b[1;32m--> 855\u001b[1;33m             \u001b[0mself\u001b[0m\u001b[1;33m.\u001b[0m\u001b[0m_componentType\u001b[0m\u001b[1;33m.\u001b[0m\u001b[0mgetPositionByName\u001b[0m\u001b[1;33m(\u001b[0m\u001b[0mname\u001b[0m\u001b[1;33m)\u001b[0m\u001b[1;33m\u001b[0m\u001b[0m\n\u001b[0m\u001b[0;32m    856\u001b[0m             )\n\u001b[0;32m    857\u001b[0m     \u001b[1;32mdef\u001b[0m \u001b[0msetComponentByName\u001b[0m\u001b[1;33m(\u001b[0m\u001b[0mself\u001b[0m\u001b[1;33m,\u001b[0m \u001b[0mname\u001b[0m\u001b[1;33m,\u001b[0m \u001b[0mvalue\u001b[0m\u001b[1;33m=\u001b[0m\u001b[0mNone\u001b[0m\u001b[1;33m,\u001b[0m \u001b[0mverifyConstraints\u001b[0m\u001b[1;33m=\u001b[0m\u001b[0mTrue\u001b[0m\u001b[1;33m)\u001b[0m\u001b[1;33m:\u001b[0m\u001b[1;33m\u001b[0m\u001b[0m\n",
      "\u001b[1;32m/usr/local/lib/python2.7/dist-packages/pyasn1/type/namedtype.pyc\u001b[0m in \u001b[0;36mgetPositionByName\u001b[1;34m(self, name)\u001b[0m\n\u001b[0;32m    102\u001b[0m             \u001b[1;32mreturn\u001b[0m \u001b[0mself\u001b[0m\u001b[1;33m.\u001b[0m\u001b[0m__nameToPosIdx\u001b[0m\u001b[1;33m[\u001b[0m\u001b[0mname\u001b[0m\u001b[1;33m]\u001b[0m\u001b[1;33m\u001b[0m\u001b[0m\n\u001b[0;32m    103\u001b[0m         \u001b[1;32mexcept\u001b[0m \u001b[0mKeyError\u001b[0m\u001b[1;33m:\u001b[0m\u001b[1;33m\u001b[0m\u001b[0m\n\u001b[1;32m--> 104\u001b[1;33m             \u001b[1;32mraise\u001b[0m \u001b[0merror\u001b[0m\u001b[1;33m.\u001b[0m\u001b[0mPyAsn1Error\u001b[0m\u001b[1;33m(\u001b[0m\u001b[1;34m'Name %s not found'\u001b[0m \u001b[1;33m%\u001b[0m \u001b[1;33m(\u001b[0m\u001b[0mname\u001b[0m\u001b[1;33m,\u001b[0m\u001b[1;33m)\u001b[0m\u001b[1;33m)\u001b[0m\u001b[1;33m\u001b[0m\u001b[0m\n\u001b[0m\u001b[0;32m    105\u001b[0m \u001b[1;33m\u001b[0m\u001b[0m\n\u001b[0;32m    106\u001b[0m     \u001b[1;32mdef\u001b[0m \u001b[0m__buildAmbigiousTagMap\u001b[0m\u001b[1;33m(\u001b[0m\u001b[0mself\u001b[0m\u001b[1;33m)\u001b[0m\u001b[1;33m:\u001b[0m\u001b[1;33m\u001b[0m\u001b[0m\n",
      "\u001b[1;31mPyAsn1Error\u001b[0m: Name format not found"
     ]
    }
   ],
   "source": [
    "print trustdatabase.InMemoryTrustDatabase.pp(qtm.ASSESSMENT_DB[0])\n",
    "print trustdatabase.InMemoryTrustDatabase.pp(sl.ASSESSMENT_DB[0])"
   ]
  },
  {
   "cell_type": "code",
   "execution_count": null,
   "metadata": {
    "collapsed": false
   },
   "outputs": [],
   "source": [
    "x = trustdatabase.SLDb().TrustClass()\n",
    "#x[\"b\"] = 0.7\n",
    "#x[\"d\"] = 0.2\n",
    "#x[\"u\"] = 0.1\n",
    "print x.prettyPrint()"
   ]
  },
  {
   "cell_type": "code",
   "execution_count": null,
   "metadata": {
    "collapsed": true
   },
   "outputs": [],
   "source": [
    "import base64"
   ]
  },
  {
   "cell_type": "code",
   "execution_count": null,
   "metadata": {
    "collapsed": false,
    "scrolled": false
   },
   "outputs": [],
   "source": [
    "bytes = base64.b64decode(\"ZlQCAQFlTwoBAGUuCgEAZAoKAQBABWRhdmlkZR0KAQFkCwoBAEMGc2VsbGVyZAsKAQBDBmxldHRlcmUaCgEBZAkKAQBBBGJhbHVkCgoBAEEFYWxla3M=\")\n",
    "m, _ = decoder.decode(bytes, asn1Spec=Message())\n",
    "print pp(m)"
   ]
  },
  {
   "cell_type": "code",
   "execution_count": null,
   "metadata": {
    "collapsed": false
   },
   "outputs": [],
   "source": [
    "encode = lambda m: base64.b64encode(encoder.encode(m))\n",
    "decode = lambda m: base64.b64decode(m)\n",
    "to_bytes = lambda s: \":\".join(\"{:02x}\".format(ord(c)) for c in s)"
   ]
  },
  {
   "cell_type": "code",
   "execution_count": null,
   "metadata": {
    "collapsed": false
   },
   "outputs": [],
   "source": [
    "bdu = SL()\n",
    "bdu[\"b\"] = 0.1\n",
    "bdu[\"d\"] = 0.2\n",
    "bdu[\"u\"] = 0.7\n",
    "\n",
    "bdu2 = \"MCEJCYDJDMzMzMzMzQkJgMoMzMzMzMzNCQmAzAszMzMzMzM=\"\n",
    "decode(bdu2), encoder.encode(bdu)"
   ]
  },
  {
   "cell_type": "code",
   "execution_count": null,
   "metadata": {
    "collapsed": false
   },
   "outputs": [],
   "source": [
    "a = Assessment()\n",
    "a[\"tms\"] = (1, 1, 1)\n",
    "a[\"source\"] = \"alice\"\n",
    "a[\"target\"] = \"bob\"\n",
    "a[\"service\"] = \"seller\"\n",
    "a[\"date\"] = 10\n",
    "a[\"value\"] = encoder.encode(QualitativeValue(\"very-bad\"))\n",
    "encoded = encode(a)\n",
    "encoded"
   ]
  },
  {
   "cell_type": "code",
   "execution_count": null,
   "metadata": {
    "collapsed": false
   },
   "outputs": [],
   "source": [
    "v, _ = decoder.decode(base64.b64decode(encoded), asn1Spec=Assessment())\n",
    "print pp(v)"
   ]
  },
  {
   "cell_type": "code",
   "execution_count": null,
   "metadata": {
    "collapsed": false
   },
   "outputs": [],
   "source": [
    "qtm = QualitativeValue(\"bad\")\n",
    "print to_bytes(decode(\"CgEB\")), to_bytes(encoder.encode(qtm))"
   ]
  }
 ],
 "metadata": {
  "kernelspec": {
   "display_name": "Python 2",
   "language": "python",
   "name": "python2"
  },
  "language_info": {
   "codemirror_mode": {
    "name": "ipython",
    "version": 2
   },
   "file_extension": ".py",
   "mimetype": "text/x-python",
   "name": "python",
   "nbconvert_exporter": "python",
   "pygments_lexer": "ipython2",
   "version": "2.7.12"
  }
 },
 "nbformat": 4,
 "nbformat_minor": 0
}
