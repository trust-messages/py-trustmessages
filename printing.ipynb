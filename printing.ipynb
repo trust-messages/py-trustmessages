{
 "cells": [
  {
   "cell_type": "code",
   "execution_count": 1,
   "metadata": {},
   "outputs": [],
   "source": [
    "from time import time\n",
    "from pyasn1.type import univ, char, tag, namedtype, constraint, namedval\n",
    "from pyasn1.codec.ber import encoder, decoder\n",
    "from trustmessages import *\n",
    "from asn1ate import parser, sema, pyasn1gen\n",
    "import random\n",
    "from io import StringIO"
   ]
  },
  {
   "cell_type": "code",
   "execution_count": 2,
   "metadata": {},
   "outputs": [],
   "source": [
    "SCHEMA = \"\"\"QTM DEFINITIONS ::= BEGIN\n",
    "QualitativeValue ::= ENUMERATED {\n",
    "    very-bad (0), bad (1), neutral (2), good (3), very-good (4)\n",
    "}\n",
    "\n",
    "SL ::= SEQUENCE {\n",
    "    b REAL, d REAL, u REAL\n",
    "}\n",
    "\n",
    "END\"\"\"\n",
    "\n",
    "# parse the schema with asn1ate\n",
    "_parse_tree = parser.parse_asn1(SCHEMA)\n",
    "_modules = sema.build_semantic_model(_parse_tree)\n",
    "_clazz_stream = StringIO()\n",
    "pyasn1gen.generate_pyasn1(_modules[0], _clazz_stream)\n",
    "_clazz = _clazz_stream.getvalue()\n",
    "# execute class in this context\n",
    "exec(_clazz)"
   ]
  },
  {
   "cell_type": "code",
   "execution_count": 3,
   "metadata": {},
   "outputs": [],
   "source": [
    "r = Rating()\n",
    "# r[\"tms\"] = univ.ObjectIdentifier((2, 2, 2))\n",
    "r[\"source\"] = \"djelenc@gmail.com\"\n",
    "r[\"target\"] = \"david.jelenc@fri.uni-lj.si\"\n",
    "r[\"service\"] = \"seller\"\n",
    "r[\"date\"] = time()\n",
    "r[\"value\"] = encoder.encode(QualitativeValue(\"very-good\"))\n",
    "\n",
    "decoded, _ = decoder.decode(encoder.encode(r), asn1Spec=Rating())\n",
    "assert(r.prettyPrint() == decoded.prettyPrint())\n",
    "v, _ = decoder.decode(decoded[\"value\"], asn1Spec=QualitativeValue())"
   ]
  },
  {
   "cell_type": "code",
   "execution_count": 4,
   "metadata": {},
   "outputs": [],
   "source": [
    "text = \"service = seller AND source = david@fri.si AND (target = balu@fri.si OR target = aleks@fri.si)\""
   ]
  },
  {
   "cell_type": "code",
   "execution_count": 5,
   "metadata": {
    "scrolled": false
   },
   "outputs": [
    {
     "data": {
      "text/plain": [
       "0.8936170212765957"
      ]
     },
     "execution_count": 5,
     "metadata": {},
     "output_type": "execute_result"
    }
   ],
   "source": [
    "q = trustutils.create_query(text)\n",
    "s = encoder.encode(q)\n",
    "float(len(s)) / len(text)"
   ]
  },
  {
   "cell_type": "code",
   "execution_count": 6,
   "metadata": {},
   "outputs": [],
   "source": [
    "qtm = trustdatabase.QtmDb()\n",
    "sl = trustdatabase.SLDb()"
   ]
  }
 ],
 "metadata": {
  "kernelspec": {
   "display_name": "Python 3",
   "language": "python",
   "name": "python3"
  },
  "language_info": {
   "codemirror_mode": {
    "name": "ipython",
    "version": 3
   },
   "file_extension": ".py",
   "mimetype": "text/x-python",
   "name": "python",
   "nbconvert_exporter": "python",
   "pygments_lexer": "ipython3",
   "version": "3.6.6"
  }
 },
 "nbformat": 4,
 "nbformat_minor": 1
}
