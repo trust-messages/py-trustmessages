{
 "cells": [
  {
   "cell_type": "code",
   "execution_count": 1,
   "metadata": {},
   "outputs": [],
   "source": [
    "import sys\n",
    "import asn1tools\n",
    "import glob"
   ]
  },
  {
   "cell_type": "code",
   "execution_count": 2,
   "metadata": {},
   "outputs": [],
   "source": [
    "OUTPUT_FORMATS = (\"ber\", 'xer', 'per', 'jer')"
   ]
  },
  {
   "cell_type": "code",
   "execution_count": 3,
   "metadata": {},
   "outputs": [],
   "source": [
    "spec = asn1tools.parse_files(\"../asn1-trustmessages/messages.asn\")\n",
    "codecs = {\n",
    "   f: asn1tools.compile_dict(spec, f) for f in OUTPUT_FORMATS\n",
    "}"
   ]
  },
  {
   "cell_type": "raw",
   "metadata": {},
   "source": [
    "formats = asn1tools.compile_files(\"../asn1-trustmessages/formats.asn\", 'ber')"
   ]
  },
  {
   "cell_type": "raw",
   "metadata": {},
   "source": [
    "filename = \"../message-data-response-100.ber\"\n",
    "\n",
    "enc = filename.split(\".\")[-1]\n",
    "name = filename.rsplit(\".\", 1)[:-1][0]\n",
    "\n",
    "with open(filename, \"rb\") as handle:\n",
    "    data = handle.read()   \n",
    "\n",
    "decoded = codecs[enc].decode('Message', data)"
   ]
  },
  {
   "cell_type": "raw",
   "metadata": {},
   "source": [
    "for item in decoded[\"payload\"][1][\"response\"]:\n",
    "    item[\"value\"] = formats.decode('QTM', item[\"value\"])"
   ]
  },
  {
   "cell_type": "raw",
   "metadata": {},
   "source": [
    "# decoded\n",
    "codecs[\"ber\"].encode('Message', decoded)"
   ]
  },
  {
   "cell_type": "code",
   "execution_count": 5,
   "metadata": {
    "scrolled": false
   },
   "outputs": [
    {
     "name": "stdout",
     "output_type": "stream",
     "text": [
      "../message-data-request-30.ber ber ../message-data-request-30\n",
      "Writing ../message-data-request-30.ber\n",
      "Skipping xer for ../message-data-request-30.ber\n",
      "Skipping per for ../message-data-request-30.ber\n",
      "Skipping jer for ../message-data-request-30.ber\n",
      "../message-data-response-100.ber ber ../message-data-response-100\n",
      "Writing ../message-data-response-100.ber\n",
      "Skipping xer for ../message-data-response-100.ber\n",
      "Skipping per for ../message-data-response-100.ber\n",
      "Skipping jer for ../message-data-response-100.ber\n",
      "../message-data-request-100.ber ber ../message-data-request-100\n",
      "Writing ../message-data-request-100.ber\n",
      "Skipping xer for ../message-data-request-100.ber\n",
      "Skipping per for ../message-data-request-100.ber\n",
      "Skipping jer for ../message-data-request-100.ber\n",
      "../message-data-request-70.ber ber ../message-data-request-70\n",
      "Writing ../message-data-request-70.ber\n",
      "Skipping xer for ../message-data-request-70.ber\n",
      "Skipping per for ../message-data-request-70.ber\n",
      "Skipping jer for ../message-data-request-70.ber\n",
      "../message-data-response-200.ber ber ../message-data-response-200\n",
      "Writing ../message-data-response-200.ber\n",
      "Skipping xer for ../message-data-response-200.ber\n",
      "Skipping per for ../message-data-response-200.ber\n",
      "Skipping jer for ../message-data-response-200.ber\n",
      "../message-data-response-700.ber ber ../message-data-response-700\n",
      "Writing ../message-data-response-700.ber\n",
      "Skipping xer for ../message-data-response-700.ber\n",
      "Skipping per for ../message-data-response-700.ber\n",
      "Skipping jer for ../message-data-response-700.ber\n",
      "../message-data-response-800.ber ber ../message-data-response-800\n",
      "Writing ../message-data-response-800.ber\n",
      "Skipping xer for ../message-data-response-800.ber\n",
      "Skipping per for ../message-data-response-800.ber\n",
      "Skipping jer for ../message-data-response-800.ber\n",
      "../message-data-request-90.ber ber ../message-data-request-90\n",
      "Writing ../message-data-request-90.ber\n",
      "Skipping xer for ../message-data-request-90.ber\n",
      "Skipping per for ../message-data-request-90.ber\n",
      "Skipping jer for ../message-data-request-90.ber\n",
      "../message-data-request-20.ber ber ../message-data-request-20\n",
      "Writing ../message-data-request-20.ber\n",
      "Skipping xer for ../message-data-request-20.ber\n",
      "Skipping per for ../message-data-request-20.ber\n",
      "Skipping jer for ../message-data-request-20.ber\n",
      "../message-data-request-50.ber ber ../message-data-request-50\n",
      "Writing ../message-data-request-50.ber\n",
      "Skipping xer for ../message-data-request-50.ber\n",
      "Skipping per for ../message-data-request-50.ber\n",
      "Skipping jer for ../message-data-request-50.ber\n",
      "../message-data-response-500.ber ber ../message-data-response-500\n",
      "Writing ../message-data-response-500.ber\n",
      "Skipping xer for ../message-data-response-500.ber\n",
      "Skipping per for ../message-data-response-500.ber\n",
      "Skipping jer for ../message-data-response-500.ber\n",
      "../message-data-response-300.ber ber ../message-data-response-300\n",
      "Writing ../message-data-response-300.ber\n",
      "Skipping xer for ../message-data-response-300.ber\n",
      "Skipping per for ../message-data-response-300.ber\n",
      "Skipping jer for ../message-data-response-300.ber\n",
      "../message-data-response-900.ber ber ../message-data-response-900\n",
      "Writing ../message-data-response-900.ber\n",
      "Skipping xer for ../message-data-response-900.ber\n",
      "Skipping per for ../message-data-response-900.ber\n",
      "Skipping jer for ../message-data-response-900.ber\n",
      "../message-data-request-80.ber ber ../message-data-request-80\n",
      "Writing ../message-data-request-80.ber\n",
      "Skipping xer for ../message-data-request-80.ber\n",
      "Skipping per for ../message-data-request-80.ber\n",
      "Skipping jer for ../message-data-request-80.ber\n",
      "../message-data-response-1000.ber ber ../message-data-response-1000\n",
      "Writing ../message-data-response-1000.ber\n",
      "Skipping xer for ../message-data-response-1000.ber\n",
      "Skipping per for ../message-data-response-1000.ber\n",
      "Skipping jer for ../message-data-response-1000.ber\n",
      "../message-data-response-400.ber ber ../message-data-response-400\n",
      "Writing ../message-data-response-400.ber\n",
      "Skipping xer for ../message-data-response-400.ber\n",
      "Skipping per for ../message-data-response-400.ber\n",
      "Skipping jer for ../message-data-response-400.ber\n",
      "../message-data-response-600.ber ber ../message-data-response-600\n",
      "Writing ../message-data-response-600.ber\n",
      "Skipping xer for ../message-data-response-600.ber\n",
      "Skipping per for ../message-data-response-600.ber\n",
      "Skipping jer for ../message-data-response-600.ber\n",
      "../message-data-request-60.ber ber ../message-data-request-60\n",
      "Writing ../message-data-request-60.ber\n",
      "Skipping xer for ../message-data-request-60.ber\n",
      "Skipping per for ../message-data-request-60.ber\n",
      "Skipping jer for ../message-data-request-60.ber\n",
      "../message-data-request-10.ber ber ../message-data-request-10\n",
      "Writing ../message-data-request-10.ber\n",
      "Skipping xer for ../message-data-request-10.ber\n",
      "Skipping per for ../message-data-request-10.ber\n",
      "Skipping jer for ../message-data-request-10.ber\n",
      "../message-data-request-40.ber ber ../message-data-request-40\n",
      "Writing ../message-data-request-40.ber\n",
      "Skipping xer for ../message-data-request-40.ber\n",
      "Skipping per for ../message-data-request-40.ber\n",
      "Skipping jer for ../message-data-request-40.ber\n"
     ]
    }
   ],
   "source": [
    "files = glob.iglob(\"../*.ber\")\n",
    "for filename in files:\n",
    "    enc = filename.split(\".\")[-1]\n",
    "    name = filename.rsplit(\".\", 1)[:-1][0]\n",
    "    \n",
    "    print(filename, enc, name)\n",
    "    \n",
    "    with open(filename, \"rb\") as handle:\n",
    "        data = handle.read()   \n",
    "    \n",
    "    decoded = codecs[enc].decode('Message', data)\n",
    "\n",
    "    for cname, codec in codecs.items():\n",
    "        if enc != cname:\n",
    "            print(\"Skipping\", cname, \"for\", filename)\n",
    "            continue\n",
    "        \n",
    "        new_file = name + \".\" + cname\n",
    "        #with open(new_file, \"wb\") as handle:\n",
    "        print(\"Writing\", new_file)\n",
    "        encoded = codecs[cname].encode('Message', decoded)\n",
    "        # handle.write(encoded)"
   ]
  }
 ],
 "metadata": {
  "kernelspec": {
   "display_name": "Python 3",
   "language": "python",
   "name": "python3"
  },
  "language_info": {
   "codemirror_mode": {
    "name": "ipython",
    "version": 3
   },
   "file_extension": ".py",
   "mimetype": "text/x-python",
   "name": "python",
   "nbconvert_exporter": "python",
   "pygments_lexer": "ipython3",
   "version": "3.6.6"
  }
 },
 "nbformat": 4,
 "nbformat_minor": 2
}
