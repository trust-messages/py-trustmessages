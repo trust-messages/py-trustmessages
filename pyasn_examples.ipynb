{
 "cells": [
  {
   "cell_type": "markdown",
   "metadata": {},
   "source": [
    "# Navodila\n",
    "Poženi naslednji ukaz za generacijo datoteke `messages2.py`\n",
    "\n",
    "```sh\n",
    "python /usr/local/lib/python2.7/dist-packages/asn1ate/pyasn1gen.py messages.asn > messages.py\n",
    "```"
   ]
  },
  {
   "cell_type": "code",
   "execution_count": 1,
   "metadata": {
    "collapsed": true
   },
   "outputs": [],
   "source": [
    "from pyasn1.type import univ\n",
    "from pyasn1.type import char\n",
    "from pyasn1.type import tag\n",
    "from pyasn1.type import namedtype\n",
    "from pyasn1.type import constraint\n",
    "from pyasn1.type import namedval\n",
    "from pyasn1.codec.ber import encoder\n",
    "from pyasn1.codec.ber import decoder\n",
    "from trustmessages import *\n",
    "import base64\n",
    "import itertools"
   ]
  },
  {
   "cell_type": "code",
   "execution_count": 2,
   "metadata": {
    "collapsed": false
   },
   "outputs": [],
   "source": [
    "encode = lambda m: base64.b64encode(encoder.encode(m))\n",
    "users = itertools.cycle([\"a@x.com\", \"b@x.com\", \"c@x.com\"])\n",
    "services = itertools.cycle([\"buyer\", \"seller\", \"letter\", \"renter\"])\n",
    "quantitative = itertools.cycle(xrange(1, 6))\n",
    "qualitative = itertools.cycle([\"distrust\", \"neutral\", \"trust\"])"
   ]
  },
  {
   "cell_type": "code",
   "execution_count": 3,
   "metadata": {
    "collapsed": false
   },
   "outputs": [
    {
     "name": "stdout",
     "output_type": "stream",
     "text": [
      "aSMGAikBEwdhQHguY29tEwdiQHguY29tEwVidXllcgIBZAIBAQ==\n"
     ]
    }
   ],
   "source": [
    "r = Assessment()\n",
    "r[\"tms\"] = univ.ObjectIdentifier((1, 1, 1))\n",
    "r[\"source\"] = next(users)\n",
    "r[\"target\"] = next(users)\n",
    "r[\"service\"] = next(services)\n",
    "r[\"date\"] = 100\n",
    "val = next(quantitative)\n",
    "r[\"value\"] = encoder.encode(univ.Integer(val))\n",
    "\n",
    "decoded, _ = decoder.decode(encoder.encode(r), asn1Spec=Assessment())\n",
    "assert(r.prettyPrint() == decoded.prettyPrint())\n",
    "assert(decoder.decode(decoded[\"value\"], asn1Spec=univ.Integer())[0] == val)\n",
    "print encode(r)"
   ]
  },
  {
   "cell_type": "code",
   "execution_count": 4,
   "metadata": {
    "collapsed": false
   },
   "outputs": [
    {
     "name": "stdout",
     "output_type": "stream",
     "text": [
      "aSsGAlICEwdjQHguY29tEwdhQHguY29tEwZzZWxsZXICAWQTCGRpc3RydXN0\n"
     ]
    }
   ],
   "source": [
    "r = Assessment()\n",
    "r[\"tms\"] = univ.ObjectIdentifier((2, 2, 2))\n",
    "r[\"source\"] = next(users)\n",
    "r[\"target\"] = next(users)\n",
    "r[\"service\"] = next(services)\n",
    "r[\"date\"] = 100\n",
    "val = next(qualitative)\n",
    "r[\"value\"] = encoder.encode(char.PrintableString(val))\n",
    "\n",
    "decoded, _ = decoder.decode(encoder.encode(r), asn1Spec=Assessment())\n",
    "assert(r.prettyPrint() == decoded.prettyPrint())\n",
    "assert(decoder.decode(decoded[\"value\"], asn1Spec=char.PrintableString())[0] == val)\n",
    "print encode(r)"
   ]
  },
  {
   "cell_type": "code",
   "execution_count": 5,
   "metadata": {
    "collapsed": false
   },
   "outputs": [
    {
     "name": "stdout",
     "output_type": "stream",
     "text": [
      "ZgsCAQFkBgoBBUIBUA==\n"
     ]
    }
   ],
   "source": [
    "a_req = AssessmentRequest()\n",
    "a_req[\"rid\"] = 1\n",
    "sq = Query()\n",
    "sq[\"cmp\"] = Comparison()\n",
    "sq[\"cmp\"][\"op\"] = \"ge\"\n",
    "sq[\"cmp\"][\"value\"] = Value()\n",
    "sq[\"cmp\"][\"value\"][\"date\"] = 80\n",
    "a_req[\"query\"] = sq\n",
    "\n",
    "decoded, _ = decoder.decode(encoder.encode(a_req), asn1Spec=Message())\n",
    "assert(a_req.prettyPrint() == decoded.getComponent().prettyPrint())\n",
    "print encode(a_req)"
   ]
  },
  {
   "cell_type": "code",
   "execution_count": 6,
   "metadata": {
    "collapsed": false
   },
   "outputs": [
    {
     "name": "stdout",
     "output_type": "stream",
     "text": [
      "Z1MCAQEwTmklBgIpARMHYkB4LmNvbRMHY0B4LmNvbRMGbGV0dGVyAgID6AIBBWklBgIpARMHYUB4LmNvbRMHYkB4LmNvbRMGcmVudGVyAgID6AIBBQ==\n"
     ]
    }
   ],
   "source": [
    "a_res = AssessmentResponse()\n",
    "a_res[\"rid\"] = 1\n",
    "a_res[\"response\"] = univ.SequenceOf(componentType=Assessment())\n",
    "\n",
    "for i in xrange(2):\n",
    "    a = Assessment()\n",
    "    a[\"tms\"] = SystemIdentity((1, 1, 1))\n",
    "    a[\"source\"] = next(users)\n",
    "    a[\"target\"] = next(users)\n",
    "    a[\"service\"] = next(services)\n",
    "    a[\"date\"] = 1000\n",
    "    a[\"value\"] = encoder.encode(univ.Integer(5))\n",
    "    a_res[\"response\"].setComponentByPosition(i, a)\n",
    "\n",
    "data, _ = decoder.decode(encoder.encode(a_res), asn1Spec=Message())\n",
    "assert(data.getComponent() == a_res)\n",
    "assert(data.getComponent().prettyPrint() == a_res.prettyPrint())\n",
    "print encode(a_res)"
   ]
  },
  {
   "cell_type": "code",
   "execution_count": 7,
   "metadata": {
    "collapsed": false
   },
   "outputs": [
    {
     "name": "stdout",
     "output_type": "stream",
     "text": [
      "YgwCAhOIZAYKAQVCAVA=\n"
     ]
    }
   ],
   "source": [
    "t_req = TrustRequest()\n",
    "\n",
    "t_req[\"rid\"] = 5000\n",
    "\n",
    "sq = Query()\n",
    "sq[\"cmp\"] = Comparison()\n",
    "sq[\"cmp\"][\"op\"] = \"ge\"\n",
    "sq[\"cmp\"][\"value\"] = Value()\n",
    "sq[\"cmp\"][\"value\"][\"date\"] = 80\n",
    "t_req[\"query\"] = sq\n",
    "\n",
    "data, _ = decoder.decode(encoder.encode(t_req), asn1Spec=Message())\n",
    "assert(data.getComponent() == t_req)\n",
    "assert(data.getComponent().prettyPrint() == t_req.prettyPrint())\n",
    "print encode(t_req)"
   ]
  },
  {
   "cell_type": "code",
   "execution_count": 8,
   "metadata": {
    "collapsed": false
   },
   "outputs": [
    {
     "name": "stdout",
     "output_type": "stream",
     "text": [
      "Y0wCAwERcDBFaCEGAikBEwdjQHguY29tEwVidXllcgICB9ATB25ldXRyYWxoIAYCKQETB2FAeC5jb20TBnNlbGxlcgICB9ATBXRydXN0\n"
     ]
    }
   ],
   "source": [
    "t_res = TrustResponse()\n",
    "t_res[\"rid\"] = 70000\n",
    "t_res[\"response\"] = univ.SequenceOf(componentType=Trust())\n",
    "\n",
    "for i in xrange(2):\n",
    "    t = Trust()\n",
    "    t[\"tms\"] = univ.ObjectIdentifier((1, 1, 1))\n",
    "    t[\"target\"] = next(users)\n",
    "    t[\"service\"] = next(services)\n",
    "    t[\"date\"] = 2000\n",
    "    t[\"value\"] = encoder.encode(char.PrintableString(next(qualitative)))\n",
    "    t_res[\"response\"].setComponentByPosition(i, t)\n",
    "\n",
    "data, _ = decoder.decode(encoder.encode(t_res), asn1Spec=Message())\n",
    "\n",
    "assert(data.getComponent() == t_res)\n",
    "assert(data.getComponent().prettyPrint() == t_res.prettyPrint())\n",
    "print encode(t_res)"
   ]
  },
  {
   "cell_type": "code",
   "execution_count": 9,
   "metadata": {
    "collapsed": false
   },
   "outputs": [
    {
     "name": "stdout",
     "output_type": "stream",
     "text": [
      "QAA=\n"
     ]
    }
   ],
   "source": [
    "f_req = FormatRequest()\n",
    "data, _ = decoder.decode(encoder.encode(f_req), asn1Spec=Message())\n",
    "assert(data.getComponent() == f_req)\n",
    "assert(data.getComponent().prettyPrint() == f_req.prettyPrint())\n",
    "print encode(f_req)"
   ]
  },
  {
   "cell_type": "code",
   "execution_count": 10,
   "metadata": {
    "collapsed": false
   },
   "outputs": [
    {
     "name": "stdout",
     "output_type": "stream",
     "text": [
      "YVkGAioDEytIZXJlIGJlIGFuIEFTTi4xIHNwZWMgZm9yIGFzc2Vzc21lbnQgdmFsdWVzEyZIZXJlIGJlIGFuIEFTTi4xIHNwZWMgZm9yIHRydXN0IHZhbHVlcw==\n"
     ]
    }
   ],
   "source": [
    "f_res = FormatResponse()\n",
    "f_res[\"tms\"] = SystemIdentity((1, 2, 3))\n",
    "f_res[\"assessment\"] = char.PrintableString(\"Here be an ASN.1 spec for assessment values\")\n",
    "f_res[\"trust\"] = char.PrintableString(\"Here be an ASN.1 spec for trust values\")\n",
    "\n",
    "data, _ = decoder.decode(encoder.encode(f_res), asn1Spec=Message())\n",
    "assert(data.getComponent() == f_res)\n",
    "assert(data.getComponent().prettyPrint() == f_res.prettyPrint())\n",
    "print encode(f_res)"
   ]
  },
  {
   "cell_type": "code",
   "execution_count": 11,
   "metadata": {
    "collapsed": false
   },
   "outputs": [
    {
     "name": "stdout",
     "output_type": "stream",
     "text": [
      "ahoKAQATFXNvbWV0aGluZyB3ZW50IHdyb25nIQ==\n"
     ]
    }
   ],
   "source": [
    "e = Fault()\n",
    "e[\"value\"] = \"invalid-parameters\"\n",
    "e[\"message\"] = \"something went wrong!\"\n",
    "\n",
    "data, _ = decoder.decode(encoder.encode(e), asn1Spec=Message())\n",
    "\n",
    "assert(data.getComponent() == e)\n",
    "assert(data.getComponent().prettyPrint() == e.prettyPrint())\n",
    "print encode(e)"
   ]
  },
  {
   "cell_type": "code",
   "execution_count": 12,
   "metadata": {
    "collapsed": false
   },
   "outputs": [],
   "source": [
    "def p(e):\n",
    "    print [ord(i) for i in encoder.encode(e)]"
   ]
  },
  {
   "cell_type": "code",
   "execution_count": 13,
   "metadata": {
    "collapsed": false
   },
   "outputs": [
    {
     "name": "stdout",
     "output_type": "stream",
     "text": [
      "[106, 6, 10, 1, 0, 19, 1, 97]\n",
      "[106, 6, 10, 1, 1, 19, 1, 98]\n"
     ]
    }
   ],
   "source": [
    "e1 = Fault()\n",
    "e1[\"value\"] = \"invalid-parameters\"\n",
    "e1[\"message\"] = \"a\"\n",
    "\n",
    "e2 = Fault()\n",
    "e2[\"value\"] = \"internal-error\"\n",
    "e2[\"message\"] = \"b\"\n",
    "\n",
    "p(e1)\n",
    "p(e2)\n"
   ]
  }
 ],
 "metadata": {
  "kernelspec": {
   "display_name": "Python 2",
   "language": "python",
   "name": "python2"
  },
  "language_info": {
   "codemirror_mode": {
    "name": "ipython",
    "version": 2
   },
   "file_extension": ".py",
   "mimetype": "text/x-python",
   "name": "python",
   "nbconvert_exporter": "python",
   "pygments_lexer": "ipython2",
   "version": "2.7.12"
  }
 },
 "nbformat": 4,
 "nbformat_minor": 0
}
