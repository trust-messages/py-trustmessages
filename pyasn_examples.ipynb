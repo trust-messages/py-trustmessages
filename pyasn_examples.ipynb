{
 "cells": [
  {
   "cell_type": "markdown",
   "metadata": {},
   "source": [
    "# Instructions\n",
    "To compile ASN.1 specs from file `messages.asn` into python classes in file `messages.py`, run the following:\n",
    "\n",
    "```sh\n",
    "python /usr/local/lib/python2.7/dist-packages/asn1ate/pyasn1gen.py messages.asn > messages.py\n",
    "```\n",
    "Then modify the generated `messages.py` by adding the `Logical` and `Query` commands into a loop:\n",
    "\n",
    "```py\n",
    "for _ in xrange(10):\n",
    "    Logical.tagSet = univ.Sequence.tagSet.tagImplicitly(tag.Tag(tag.tagClassApplication, tag.tagFormatConstructed, 5))\n",
    "    Logical.componentType = namedtype.NamedTypes(\n",
    "        namedtype.NamedType('op', univ.Enumerated(namedValues=namedval.NamedValues(('and', 0), ('or', 1)))),\n",
    "        namedtype.NamedType('l', Query()),\n",
    "        namedtype.NamedType('r', Query())\n",
    "    )\n",
    "    Query.componentType = namedtype.NamedTypes(\n",
    "        namedtype.NamedType('cmp', Comparison()),\n",
    "        namedtype.NamedType('log', Logical())\n",
    "    )\n",
    "```"
   ]
  },
  {
   "cell_type": "code",
   "execution_count": 1,
   "metadata": {
    "collapsed": false
   },
   "outputs": [],
   "source": [
    "from pyasn1.type import univ\n",
    "from pyasn1.type import char\n",
    "from pyasn1.type import tag\n",
    "from pyasn1.type import namedtype\n",
    "from pyasn1.type import constraint\n",
    "from pyasn1.type import namedval\n",
    "from pyasn1.codec.ber import encoder\n",
    "from pyasn1.codec.ber import decoder\n",
    "from trustmessages import *\n",
    "from trustmessages.trustdatabase import QtmDb, SLDb\n",
    "import base64\n",
    "import itertools"
   ]
  },
  {
   "cell_type": "code",
   "execution_count": 2,
   "metadata": {
    "collapsed": false
   },
   "outputs": [],
   "source": [
    "encode = lambda m: base64.b64encode(encoder.encode(m))\n",
    "get_bytes = lambda e: str([ord(i) for i in encoder.encode(e)])\n",
    "users = itertools.cycle([\"a@x.com\", \"b@x.com\", \"c@x.com\"])\n",
    "services = itertools.cycle([\"buyer\", \"seller\", \"letter\", \"renter\"])\n",
    "quantitative = itertools.cycle(xrange(1, 6))\n",
    "qualitative = itertools.cycle([\"distrust\", \"neutral\", \"trust\"])"
   ]
  },
  {
   "cell_type": "code",
   "execution_count": 3,
   "metadata": {
    "collapsed": false
   },
   "outputs": [
    {
     "name": "stdout",
     "output_type": "stream",
     "text": [
      "aR8TB2FAeC5jb20TB2JAeC5jb20TBWJ1eWVyAgFkAgEB\n"
     ]
    }
   ],
   "source": [
    "r = Assessment()\n",
    "r[\"source\"] = next(users)\n",
    "r[\"target\"] = next(users)\n",
    "r[\"service\"] = next(services)\n",
    "r[\"date\"] = 100\n",
    "val = next(quantitative)\n",
    "r[\"value\"] = encoder.encode(univ.Integer(val))\n",
    "\n",
    "decoded, _ = decoder.decode(encoder.encode(r), asn1Spec=Assessment())\n",
    "assert(r.prettyPrint() == decoded.prettyPrint())\n",
    "assert(decoder.decode(decoded[\"value\"], asn1Spec=univ.Integer())[0] == val)\n",
    "print encode(r)"
   ]
  },
  {
   "cell_type": "code",
   "execution_count": 4,
   "metadata": {
    "collapsed": false
   },
   "outputs": [
    {
     "name": "stdout",
     "output_type": "stream",
     "text": [
      "aScTB2NAeC5jb20TB2FAeC5jb20TBnNlbGxlcgIBZBMIZGlzdHJ1c3Q=\n"
     ]
    }
   ],
   "source": [
    "r = Assessment()\n",
    "r[\"source\"] = next(users)\n",
    "r[\"target\"] = next(users)\n",
    "r[\"service\"] = next(services)\n",
    "r[\"date\"] = 100\n",
    "val = next(qualitative)\n",
    "r[\"value\"] = encoder.encode(char.PrintableString(val))\n",
    "\n",
    "decoded, _ = decoder.decode(encoder.encode(r), asn1Spec=Assessment())\n",
    "assert(r.prettyPrint() == decoded.prettyPrint())\n",
    "assert(decoder.decode(decoded[\"value\"], asn1Spec=char.PrintableString())[0] == val)\n",
    "print encode(r)"
   ]
  },
  {
   "cell_type": "code",
   "execution_count": 5,
   "metadata": {
    "collapsed": false
   },
   "outputs": [
    {
     "name": "stdout",
     "output_type": "stream",
     "text": [
      "ZgsCAQFkBgoBBUIBUA==\n"
     ]
    }
   ],
   "source": [
    "a_req = AssessmentRequest()\n",
    "a_req[\"rid\"] = 1\n",
    "sq = Query()\n",
    "sq[\"cmp\"] = Comparison()\n",
    "sq[\"cmp\"][\"op\"] = \"ge\"\n",
    "sq[\"cmp\"][\"value\"] = Value()\n",
    "sq[\"cmp\"][\"value\"][\"date\"] = 80\n",
    "a_req[\"query\"] = sq\n",
    "\n",
    "decoded, _ = decoder.decode(encoder.encode(a_req), asn1Spec=Message())\n",
    "assert(a_req.prettyPrint() == decoded.getComponent().prettyPrint())\n",
    "print encode(a_req)"
   ]
  },
  {
   "cell_type": "code",
   "execution_count": 6,
   "metadata": {
    "collapsed": false
   },
   "outputs": [
    {
     "name": "stdout",
     "output_type": "stream",
     "text": [
      "Z1UTBGViYXkGAikBAgEBMEZpIRMHYkB4LmNvbRMHY0B4LmNvbRMGbGV0dGVyAgID6AIBBWkhEwdhQHguY29tEwdiQHguY29tEwZyZW50ZXICAgPoAgEF\n"
     ]
    }
   ],
   "source": [
    "a_res = AssessmentResponse()\n",
    "a_res[\"provider\"] = Entity(\"ebay\")\n",
    "a_res[\"format\"] = Format((1, 1, 1))\n",
    "a_res[\"rid\"] = 1\n",
    "a_res[\"response\"] = univ.SequenceOf(componentType=Assessment())\n",
    "\n",
    "for i in xrange(2):\n",
    "    a = Assessment()\n",
    "    a[\"source\"] = next(users)\n",
    "    a[\"target\"] = next(users)\n",
    "    a[\"service\"] = next(services)\n",
    "    a[\"date\"] = 1000\n",
    "    a[\"value\"] = encoder.encode(univ.Integer(5))\n",
    "    a_res[\"response\"].setComponentByPosition(i, a)\n",
    "\n",
    "data, _ = decoder.decode(encoder.encode(a_res), asn1Spec=Message())\n",
    "assert(data.getComponent() == a_res)\n",
    "assert(data.getComponent().prettyPrint() == a_res.prettyPrint())\n",
    "print encode(a_res)"
   ]
  },
  {
   "cell_type": "code",
   "execution_count": 7,
   "metadata": {
    "collapsed": false
   },
   "outputs": [
    {
     "name": "stdout",
     "output_type": "stream",
     "text": [
      "YgwCAhOIZAYKAQVCAVA=\n"
     ]
    }
   ],
   "source": [
    "t_req = TrustRequest()\n",
    "\n",
    "t_req[\"rid\"] = 5000\n",
    "\n",
    "sq = Query()\n",
    "sq[\"cmp\"] = Comparison()\n",
    "sq[\"cmp\"][\"op\"] = \"ge\"\n",
    "sq[\"cmp\"][\"value\"] = Value()\n",
    "sq[\"cmp\"][\"value\"][\"date\"] = 80\n",
    "t_req[\"query\"] = sq\n",
    "\n",
    "data, _ = decoder.decode(encoder.encode(t_req), asn1Spec=Message())\n",
    "assert(data.getComponent() == t_req)\n",
    "assert(data.getComponent().prettyPrint() == t_req.prettyPrint())\n",
    "print encode(t_req)"
   ]
  },
  {
   "cell_type": "code",
   "execution_count": 8,
   "metadata": {
    "collapsed": false
   },
   "outputs": [
    {
     "name": "stdout",
     "output_type": "stream",
     "text": [
      "Y04TBGViYXkGAikBAgMBEXAwPWgdEwdjQHguY29tEwVidXllcgICB9ATB25ldXRyYWxoHBMHYUB4LmNvbRMGc2VsbGVyAgIH0BMFdHJ1c3Q=\n"
     ]
    }
   ],
   "source": [
    "t_res = TrustResponse()\n",
    "t_res[\"provider\"] = Entity(\"ebay\")\n",
    "t_res[\"format\"] = Format((1, 1, 1))\n",
    "t_res[\"rid\"] = 70000\n",
    "t_res[\"response\"] = univ.SequenceOf(componentType=Trust())\n",
    "\n",
    "for i in xrange(2):\n",
    "    t = Trust()\n",
    "    t[\"target\"] = next(users)\n",
    "    t[\"service\"] = next(services)\n",
    "    t[\"date\"] = 2000\n",
    "    t[\"value\"] = encoder.encode(char.PrintableString(next(qualitative)))\n",
    "    t_res[\"response\"].setComponentByPosition(i, t)\n",
    "\n",
    "data, _ = decoder.decode(encoder.encode(t_res), asn1Spec=Message())\n",
    "\n",
    "assert(data.getComponent() == t_res)\n",
    "assert(data.getComponent().prettyPrint() == t_res.prettyPrint())\n",
    "print encode(t_res)"
   ]
  },
  {
   "cell_type": "code",
   "execution_count": 9,
   "metadata": {
    "collapsed": false
   },
   "outputs": [
    {
     "name": "stdout",
     "output_type": "stream",
     "text": [
      "QAA=\n"
     ]
    }
   ],
   "source": [
    "f_req = FormatRequest()\n",
    "data, _ = decoder.decode(encoder.encode(f_req), asn1Spec=Message())\n",
    "assert(data.getComponent() == f_req)\n",
    "assert(data.getComponent().prettyPrint() == f_req.prettyPrint())\n",
    "print encode(f_req)"
   ]
  },
  {
   "cell_type": "code",
   "execution_count": 10,
   "metadata": {
    "collapsed": false
   },
   "outputs": [
    {
     "name": "stdout",
     "output_type": "stream",
     "text": [
      "YVkGAioDEytIZXJlIGJlIGFuIEFTTi4xIHNwZWMgZm9yIGFzc2Vzc21lbnQgdmFsdWVzEyZIZXJlIGJlIGFuIEFTTi4xIHNwZWMgZm9yIHRydXN0IHZhbHVlcw==\n"
     ]
    }
   ],
   "source": [
    "f_res = FormatResponse()\n",
    "f_res[\"format\"] = Format((1, 2, 3))\n",
    "f_res[\"assessment\"] = char.PrintableString(\"Here be an ASN.1 spec for assessment values\")\n",
    "f_res[\"trust\"] = char.PrintableString(\"Here be an ASN.1 spec for trust values\")\n",
    "\n",
    "data, _ = decoder.decode(encoder.encode(f_res), asn1Spec=Message())\n",
    "assert(data.getComponent() == f_res)\n",
    "assert(data.getComponent().prettyPrint() == f_res.prettyPrint())\n",
    "print encode(f_res)"
   ]
  },
  {
   "cell_type": "code",
   "execution_count": 11,
   "metadata": {
    "collapsed": false
   },
   "outputs": [
    {
     "name": "stdout",
     "output_type": "stream",
     "text": [
      "ahoKAQATFXNvbWV0aGluZyB3ZW50IHdyb25nIQ==\n"
     ]
    }
   ],
   "source": [
    "e = Fault()\n",
    "e[\"value\"] = \"invalid-parameters\"\n",
    "e[\"message\"] = \"something went wrong!\"\n",
    "\n",
    "data, _ = decoder.decode(encoder.encode(e), asn1Spec=Message())\n",
    "\n",
    "assert(data.getComponent() == e)\n",
    "assert(data.getComponent().prettyPrint() == e.prettyPrint())\n",
    "print encode(e)"
   ]
  },
  {
   "cell_type": "code",
   "execution_count": 12,
   "metadata": {
    "collapsed": false
   },
   "outputs": [
    {
     "name": "stdout",
     "output_type": "stream",
     "text": [
      "[106, 6, 10, 1, 0, 19, 1, 97]\n",
      "[106, 6, 10, 1, 1, 19, 1, 98]\n"
     ]
    }
   ],
   "source": [
    "e1 = Fault()\n",
    "e1[\"value\"] = \"invalid-parameters\"\n",
    "e1[\"message\"] = \"a\"\n",
    "\n",
    "e2 = Fault()\n",
    "e2[\"value\"] = \"internal-error\"\n",
    "e2[\"message\"] = \"b\"\n",
    "\n",
    "print get_bytes(e1)\n",
    "print get_bytes(e2)\n"
   ]
  },
  {
   "cell_type": "code",
   "execution_count": 13,
   "metadata": {
    "collapsed": false
   },
   "outputs": [
    {
     "name": "stdout",
     "output_type": "stream",
     "text": [
      "MBUJBQMxRS0xCQUDMkUtMQkFAzdFLTE=\n"
     ]
    }
   ],
   "source": [
    "# Encode SL\n",
    "bdu = SLDb().AssessmentClass()\n",
    "bdu[\"b\"] = 0.1\n",
    "bdu[\"d\"] = 0.2\n",
    "bdu[\"u\"] = 0.7\n",
    "\n",
    "decoded, _ = decoder.decode(encoder.encode(bdu), asn1Spec=SLDb().AssessmentClass())\n",
    "assert(bdu == decoded)\n",
    "print encode(bdu)"
   ]
  },
  {
   "cell_type": "code",
   "execution_count": 14,
   "metadata": {
    "collapsed": false
   },
   "outputs": [
    {
     "name": "stdout",
     "output_type": "stream",
     "text": [
      "aTQTB2JAeC5jb20TB2NAeC5jb20TBmxldHRlcgIBZDAVCQUDMUUtMQkFAzJFLTEJBQM3RS0x\n"
     ]
    }
   ],
   "source": [
    "# encode assessment with SL\n",
    "r = Assessment()\n",
    "r[\"source\"] = next(users)\n",
    "r[\"target\"] = next(users)\n",
    "r[\"service\"] = next(services)\n",
    "r[\"date\"] = 100\n",
    "r[\"value\"] = encoder.encode(bdu)\n",
    "\n",
    "decoded, _ = decoder.decode(encoder.encode(r), asn1Spec=Assessment())\n",
    "assert(r == decoded)\n",
    "print encode(r)"
   ]
  },
  {
   "cell_type": "code",
   "execution_count": 15,
   "metadata": {
    "collapsed": false
   },
   "outputs": [],
   "source": [
    "# decode SL from Java\n",
    "bytes = base64.decodestring(\"MCEJCYDJDMzMzMzMzQkJgMoMzMzMzMzNCQmAzAszMzMzMzM=\")\n",
    "bdu, _ = decoder.decode(bytes, asn1Spec=SLDb().AssessmentClass())\n",
    "assert bdu[\"b\"] == 0.1\n",
    "assert bdu[\"d\"] == 0.2\n",
    "assert bdu[\"u\"] == 0.7"
   ]
  },
  {
   "cell_type": "code",
   "execution_count": 16,
   "metadata": {
    "collapsed": false
   },
   "outputs": [],
   "source": [
    "# decode Java's Assessment@SL\n",
    "bytes = base64.decodestring(\"aToTBWFsaWNlEwNib2ITBnNlbGxlcgIBCjAhC\" \\\n",
    "                            \"QmAyQzMzMzMzM0JCYDKDMzMzMzMzQkJgMwLMzMzMzMz\")\n",
    "a, _ = decoder.decode(bytes, asn1Spec=Assessment())\n",
    "bdu, _ = decoder.decode(a[\"value\"], asn1Spec=SLDb().AssessmentClass())\n",
    "assert bdu[\"b\"] == 0.1\n",
    "assert bdu[\"d\"] == 0.2\n",
    "assert bdu[\"u\"] == 0.7"
   ]
  },
  {
   "cell_type": "code",
   "execution_count": 17,
   "metadata": {
    "collapsed": false
   },
   "outputs": [],
   "source": [
    "# decode Java's AssessmentResponse@SL\n",
    "bytes = base64.decodestring(\"Z4GbEwdzb21ldG1zBgIpAQIBATCBiGlCEwVhbGljZRMLeW91QHlvdS5jb20TBnN\" \\\n",
    "                            \"lbGxlcgIBCjAhCQmAyQzMzMzMzM0JCYDKDMzMzMzMzQkJgMwLMzMzMzMzaUITBW\" \\\n",
    "                            \"FsaWNlEwt5b3VAeW91LmNvbRMGc2VsbGVyAgEKMCEJCYDJDMzMzMzMzQkJgMoMz\" \\\n",
    "                            \"MzMzMzNCQmAzAszMzMzMzM=\")\n",
    "ar, _ = decoder.decode(bytes, asn1Spec=Message())\n",
    "for a in ar[\"assessment-response\"][\"response\"]:\n",
    "    bdu, _ = decoder.decode(a[\"value\"], asn1Spec=SLDb().AssessmentClass())\n",
    "    assert bdu[\"b\"] == 0.1\n",
    "    assert bdu[\"d\"] == 0.2\n",
    "    assert bdu[\"u\"] == 0.7"
   ]
  },
  {
   "cell_type": "code",
   "execution_count": 34,
   "metadata": {
    "collapsed": false
   },
   "outputs": [
    {
     "ename": "PyAsn1Error",
     "evalue": "Indefinite length mode decoder not implemented for [0:0:9]+[128:32:5]",
     "output_type": "error",
     "traceback": [
      "\u001b[1;31m---------------------------------------------------------------------------\u001b[0m",
      "\u001b[1;31mPyAsn1Error\u001b[0m                               Traceback (most recent call last)",
      "\u001b[1;32m<ipython-input-34-6524b108e675>\u001b[0m in \u001b[0;36m<module>\u001b[1;34m()\u001b[0m\n\u001b[0;32m      1\u001b[0m \u001b[1;31m# Decoding Java's AssessmentResponse with SL\u001b[0m\u001b[1;33m\u001b[0m\u001b[1;33m\u001b[0m\u001b[0m\n\u001b[0;32m      2\u001b[0m \u001b[0mencoded\u001b[0m \u001b[1;33m=\u001b[0m \u001b[0mbase64\u001b[0m\u001b[1;33m.\u001b[0m\u001b[0mb64decode\u001b[0m\u001b[1;33m(\u001b[0m\u001b[1;34m\"Y4GsEwRlYmF5BgJSAgICJ2owgZtoMhMDZXZlEwZsZXR0ZXICAREhCQmAzAt+9A85mqUJCYDFB+SsrwLgxQkJgMsI4oUu0L8zaDITA2V2ZRMGcmVudGVyAgESIQkJgMsd6b85ElxFCQmAzA2D0rxsTc0JCcDLGPFkser332gxEwNldmUTBWJ1eWVyAgETIQkJgMwJYmN2rNeFCQmAywg7nzF3qK8JCYDLBP+Z4S6oRw==\"\u001b[0m\u001b[1;33m)\u001b[0m\u001b[1;33m\u001b[0m\u001b[0m\n\u001b[1;32m----> 3\u001b[1;33m \u001b[0mdata\u001b[0m\u001b[1;33m,\u001b[0m \u001b[0m_\u001b[0m \u001b[1;33m=\u001b[0m \u001b[0mdecoder\u001b[0m\u001b[1;33m.\u001b[0m\u001b[0mdecode\u001b[0m\u001b[1;33m(\u001b[0m\u001b[0mencoded\u001b[0m\u001b[1;33m,\u001b[0m \u001b[0masn1Spec\u001b[0m\u001b[1;33m=\u001b[0m\u001b[0mMessage\u001b[0m\u001b[1;33m(\u001b[0m\u001b[1;33m)\u001b[0m\u001b[1;33m)\u001b[0m\u001b[1;33m\u001b[0m\u001b[0m\n\u001b[0m\u001b[0;32m      4\u001b[0m \u001b[1;32mprint\u001b[0m\u001b[1;33m(\u001b[0m\u001b[0mdata\u001b[0m\u001b[1;33m.\u001b[0m\u001b[0mprettyPrint\u001b[0m\u001b[1;33m(\u001b[0m\u001b[1;33m)\u001b[0m\u001b[1;33m)\u001b[0m\u001b[1;33m\u001b[0m\u001b[0m\n",
      "\u001b[1;32m/usr/local/lib/python2.7/dist-packages/pyasn1/codec/ber/decoder.pyc\u001b[0m in \u001b[0;36m__call__\u001b[1;34m(self, substrate, asn1Spec, tagSet, length, state, recursiveFlag, substrateFun, allowEoo)\u001b[0m\n\u001b[0;32m    823\u001b[0m                     value, substrate = concreteDecoder.valueDecoder(\n\u001b[0;32m    824\u001b[0m                         \u001b[0mfullSubstrate\u001b[0m\u001b[1;33m,\u001b[0m \u001b[0msubstrate\u001b[0m\u001b[1;33m,\u001b[0m \u001b[0masn1Spec\u001b[0m\u001b[1;33m,\u001b[0m \u001b[0mtagSet\u001b[0m\u001b[1;33m,\u001b[0m \u001b[0mlength\u001b[0m\u001b[1;33m,\u001b[0m\u001b[1;33m\u001b[0m\u001b[0m\n\u001b[1;32m--> 825\u001b[1;33m                         \u001b[0mstGetValueDecoder\u001b[0m\u001b[1;33m,\u001b[0m \u001b[0mself\u001b[0m\u001b[1;33m,\u001b[0m \u001b[0msubstrateFun\u001b[0m\u001b[1;33m\u001b[0m\u001b[0m\n\u001b[0m\u001b[0;32m    826\u001b[0m                         )\n\u001b[0;32m    827\u001b[0m                 \u001b[0mstate\u001b[0m \u001b[1;33m=\u001b[0m \u001b[0mstStop\u001b[0m\u001b[1;33m\u001b[0m\u001b[0m\n",
      "\u001b[1;32m/usr/local/lib/python2.7/dist-packages/pyasn1/codec/ber/decoder.pyc\u001b[0m in \u001b[0;36mvalueDecoder\u001b[1;34m(self, fullSubstrate, substrate, asn1Spec, tagSet, length, state, decodeFun, substrateFun)\u001b[0m\n\u001b[0;32m    443\u001b[0m         \u001b[1;32melse\u001b[0m\u001b[1;33m:\u001b[0m\u001b[1;33m\u001b[0m\u001b[0m\n\u001b[0;32m    444\u001b[0m             component, head = decodeFun(\n\u001b[1;32m--> 445\u001b[1;33m                 \u001b[0mhead\u001b[0m\u001b[1;33m,\u001b[0m \u001b[0mr\u001b[0m\u001b[1;33m.\u001b[0m\u001b[0mgetComponentTagMap\u001b[0m\u001b[1;33m(\u001b[0m\u001b[1;33m)\u001b[0m\u001b[1;33m,\u001b[0m \u001b[0mtagSet\u001b[0m\u001b[1;33m,\u001b[0m \u001b[0mlength\u001b[0m\u001b[1;33m,\u001b[0m \u001b[0mstate\u001b[0m\u001b[1;33m\u001b[0m\u001b[0m\n\u001b[0m\u001b[0;32m    446\u001b[0m                 )\n\u001b[0;32m    447\u001b[0m         \u001b[1;32mif\u001b[0m \u001b[0misinstance\u001b[0m\u001b[1;33m(\u001b[0m\u001b[0mcomponent\u001b[0m\u001b[1;33m,\u001b[0m \u001b[0muniv\u001b[0m\u001b[1;33m.\u001b[0m\u001b[0mChoice\u001b[0m\u001b[1;33m)\u001b[0m\u001b[1;33m:\u001b[0m\u001b[1;33m\u001b[0m\u001b[0m\n",
      "\u001b[1;32m/usr/local/lib/python2.7/dist-packages/pyasn1/codec/ber/decoder.pyc\u001b[0m in \u001b[0;36m__call__\u001b[1;34m(self, substrate, asn1Spec, tagSet, length, state, recursiveFlag, substrateFun, allowEoo)\u001b[0m\n\u001b[0;32m    823\u001b[0m                     value, substrate = concreteDecoder.valueDecoder(\n\u001b[0;32m    824\u001b[0m                         \u001b[0mfullSubstrate\u001b[0m\u001b[1;33m,\u001b[0m \u001b[0msubstrate\u001b[0m\u001b[1;33m,\u001b[0m \u001b[0masn1Spec\u001b[0m\u001b[1;33m,\u001b[0m \u001b[0mtagSet\u001b[0m\u001b[1;33m,\u001b[0m \u001b[0mlength\u001b[0m\u001b[1;33m,\u001b[0m\u001b[1;33m\u001b[0m\u001b[0m\n\u001b[1;32m--> 825\u001b[1;33m                         \u001b[0mstGetValueDecoder\u001b[0m\u001b[1;33m,\u001b[0m \u001b[0mself\u001b[0m\u001b[1;33m,\u001b[0m \u001b[0msubstrateFun\u001b[0m\u001b[1;33m\u001b[0m\u001b[0m\n\u001b[0m\u001b[0;32m    826\u001b[0m                         )\n\u001b[0;32m    827\u001b[0m                 \u001b[0mstate\u001b[0m \u001b[1;33m=\u001b[0m \u001b[0mstStop\u001b[0m\u001b[1;33m\u001b[0m\u001b[0m\n",
      "\u001b[1;32m/usr/local/lib/python2.7/dist-packages/pyasn1/codec/ber/decoder.pyc\u001b[0m in \u001b[0;36mvalueDecoder\u001b[1;34m(self, fullSubstrate, substrate, asn1Spec, tagSet, length, state, decodeFun, substrateFun)\u001b[0m\n\u001b[0;32m    340\u001b[0m         \u001b[1;32mwhile\u001b[0m \u001b[0mhead\u001b[0m\u001b[1;33m:\u001b[0m\u001b[1;33m\u001b[0m\u001b[0m\n\u001b[0;32m    341\u001b[0m             \u001b[0masn1Spec\u001b[0m \u001b[1;33m=\u001b[0m \u001b[0mself\u001b[0m\u001b[1;33m.\u001b[0m\u001b[0m_getComponentTagMap\u001b[0m\u001b[1;33m(\u001b[0m\u001b[0mr\u001b[0m\u001b[1;33m,\u001b[0m \u001b[0midx\u001b[0m\u001b[1;33m)\u001b[0m\u001b[1;33m\u001b[0m\u001b[0m\n\u001b[1;32m--> 342\u001b[1;33m             \u001b[0mcomponent\u001b[0m\u001b[1;33m,\u001b[0m \u001b[0mhead\u001b[0m \u001b[1;33m=\u001b[0m \u001b[0mdecodeFun\u001b[0m\u001b[1;33m(\u001b[0m\u001b[0mhead\u001b[0m\u001b[1;33m,\u001b[0m \u001b[0masn1Spec\u001b[0m\u001b[1;33m)\u001b[0m\u001b[1;33m\u001b[0m\u001b[0m\n\u001b[0m\u001b[0;32m    343\u001b[0m             idx = self._getComponentPositionByType(\n\u001b[0;32m    344\u001b[0m                 \u001b[0mr\u001b[0m\u001b[1;33m,\u001b[0m \u001b[0mcomponent\u001b[0m\u001b[1;33m.\u001b[0m\u001b[0mgetEffectiveTagSet\u001b[0m\u001b[1;33m(\u001b[0m\u001b[1;33m)\u001b[0m\u001b[1;33m,\u001b[0m \u001b[0midx\u001b[0m\u001b[1;33m\u001b[0m\u001b[0m\n",
      "\u001b[1;32m/usr/local/lib/python2.7/dist-packages/pyasn1/codec/ber/decoder.pyc\u001b[0m in \u001b[0;36m__call__\u001b[1;34m(self, substrate, asn1Spec, tagSet, length, state, recursiveFlag, substrateFun, allowEoo)\u001b[0m\n\u001b[0;32m    823\u001b[0m                     value, substrate = concreteDecoder.valueDecoder(\n\u001b[0;32m    824\u001b[0m                         \u001b[0mfullSubstrate\u001b[0m\u001b[1;33m,\u001b[0m \u001b[0msubstrate\u001b[0m\u001b[1;33m,\u001b[0m \u001b[0masn1Spec\u001b[0m\u001b[1;33m,\u001b[0m \u001b[0mtagSet\u001b[0m\u001b[1;33m,\u001b[0m \u001b[0mlength\u001b[0m\u001b[1;33m,\u001b[0m\u001b[1;33m\u001b[0m\u001b[0m\n\u001b[1;32m--> 825\u001b[1;33m                         \u001b[0mstGetValueDecoder\u001b[0m\u001b[1;33m,\u001b[0m \u001b[0mself\u001b[0m\u001b[1;33m,\u001b[0m \u001b[0msubstrateFun\u001b[0m\u001b[1;33m\u001b[0m\u001b[0m\n\u001b[0m\u001b[0;32m    826\u001b[0m                         )\n\u001b[0;32m    827\u001b[0m                 \u001b[0mstate\u001b[0m \u001b[1;33m=\u001b[0m \u001b[0mstStop\u001b[0m\u001b[1;33m\u001b[0m\u001b[0m\n",
      "\u001b[1;32m/usr/local/lib/python2.7/dist-packages/pyasn1/codec/ber/decoder.pyc\u001b[0m in \u001b[0;36mvalueDecoder\u001b[1;34m(self, fullSubstrate, substrate, asn1Spec, tagSet, length, state, decodeFun, substrateFun)\u001b[0m\n\u001b[0;32m    386\u001b[0m         \u001b[0midx\u001b[0m \u001b[1;33m=\u001b[0m \u001b[1;36m0\u001b[0m\u001b[1;33m\u001b[0m\u001b[0m\n\u001b[0;32m    387\u001b[0m         \u001b[1;32mwhile\u001b[0m \u001b[0mhead\u001b[0m\u001b[1;33m:\u001b[0m\u001b[1;33m\u001b[0m\u001b[0m\n\u001b[1;32m--> 388\u001b[1;33m             \u001b[0mcomponent\u001b[0m\u001b[1;33m,\u001b[0m \u001b[0mhead\u001b[0m \u001b[1;33m=\u001b[0m \u001b[0mdecodeFun\u001b[0m\u001b[1;33m(\u001b[0m\u001b[0mhead\u001b[0m\u001b[1;33m,\u001b[0m \u001b[0masn1Spec\u001b[0m\u001b[1;33m)\u001b[0m\u001b[1;33m\u001b[0m\u001b[0m\n\u001b[0m\u001b[0;32m    389\u001b[0m             \u001b[0mr\u001b[0m\u001b[1;33m.\u001b[0m\u001b[0msetComponentByPosition\u001b[0m\u001b[1;33m(\u001b[0m\u001b[0midx\u001b[0m\u001b[1;33m,\u001b[0m \u001b[0mcomponent\u001b[0m\u001b[1;33m,\u001b[0m \u001b[0masn1Spec\u001b[0m \u001b[1;32mis\u001b[0m \u001b[0mNone\u001b[0m\u001b[1;33m)\u001b[0m\u001b[1;33m\u001b[0m\u001b[0m\n\u001b[0;32m    390\u001b[0m             \u001b[0midx\u001b[0m \u001b[1;33m=\u001b[0m \u001b[0midx\u001b[0m \u001b[1;33m+\u001b[0m \u001b[1;36m1\u001b[0m\u001b[1;33m\u001b[0m\u001b[0m\n",
      "\u001b[1;32m/usr/local/lib/python2.7/dist-packages/pyasn1/codec/ber/decoder.pyc\u001b[0m in \u001b[0;36m__call__\u001b[1;34m(self, substrate, asn1Spec, tagSet, length, state, recursiveFlag, substrateFun, allowEoo)\u001b[0m\n\u001b[0;32m    823\u001b[0m                     value, substrate = concreteDecoder.valueDecoder(\n\u001b[0;32m    824\u001b[0m                         \u001b[0mfullSubstrate\u001b[0m\u001b[1;33m,\u001b[0m \u001b[0msubstrate\u001b[0m\u001b[1;33m,\u001b[0m \u001b[0masn1Spec\u001b[0m\u001b[1;33m,\u001b[0m \u001b[0mtagSet\u001b[0m\u001b[1;33m,\u001b[0m \u001b[0mlength\u001b[0m\u001b[1;33m,\u001b[0m\u001b[1;33m\u001b[0m\u001b[0m\n\u001b[1;32m--> 825\u001b[1;33m                         \u001b[0mstGetValueDecoder\u001b[0m\u001b[1;33m,\u001b[0m \u001b[0mself\u001b[0m\u001b[1;33m,\u001b[0m \u001b[0msubstrateFun\u001b[0m\u001b[1;33m\u001b[0m\u001b[0m\n\u001b[0m\u001b[0;32m    826\u001b[0m                         )\n\u001b[0;32m    827\u001b[0m                 \u001b[0mstate\u001b[0m \u001b[1;33m=\u001b[0m \u001b[0mstStop\u001b[0m\u001b[1;33m\u001b[0m\u001b[0m\n",
      "\u001b[1;32m/usr/local/lib/python2.7/dist-packages/pyasn1/codec/ber/decoder.pyc\u001b[0m in \u001b[0;36mvalueDecoder\u001b[1;34m(self, fullSubstrate, substrate, asn1Spec, tagSet, length, state, decodeFun, substrateFun)\u001b[0m\n\u001b[0;32m    340\u001b[0m         \u001b[1;32mwhile\u001b[0m \u001b[0mhead\u001b[0m\u001b[1;33m:\u001b[0m\u001b[1;33m\u001b[0m\u001b[0m\n\u001b[0;32m    341\u001b[0m             \u001b[0masn1Spec\u001b[0m \u001b[1;33m=\u001b[0m \u001b[0mself\u001b[0m\u001b[1;33m.\u001b[0m\u001b[0m_getComponentTagMap\u001b[0m\u001b[1;33m(\u001b[0m\u001b[0mr\u001b[0m\u001b[1;33m,\u001b[0m \u001b[0midx\u001b[0m\u001b[1;33m)\u001b[0m\u001b[1;33m\u001b[0m\u001b[0m\n\u001b[1;32m--> 342\u001b[1;33m             \u001b[0mcomponent\u001b[0m\u001b[1;33m,\u001b[0m \u001b[0mhead\u001b[0m \u001b[1;33m=\u001b[0m \u001b[0mdecodeFun\u001b[0m\u001b[1;33m(\u001b[0m\u001b[0mhead\u001b[0m\u001b[1;33m,\u001b[0m \u001b[0masn1Spec\u001b[0m\u001b[1;33m)\u001b[0m\u001b[1;33m\u001b[0m\u001b[0m\n\u001b[0m\u001b[0;32m    343\u001b[0m             idx = self._getComponentPositionByType(\n\u001b[0;32m    344\u001b[0m                 \u001b[0mr\u001b[0m\u001b[1;33m,\u001b[0m \u001b[0mcomponent\u001b[0m\u001b[1;33m.\u001b[0m\u001b[0mgetEffectiveTagSet\u001b[0m\u001b[1;33m(\u001b[0m\u001b[1;33m)\u001b[0m\u001b[1;33m,\u001b[0m \u001b[0midx\u001b[0m\u001b[1;33m\u001b[0m\u001b[0m\n",
      "\u001b[1;32m/usr/local/lib/python2.7/dist-packages/pyasn1/codec/ber/decoder.pyc\u001b[0m in \u001b[0;36m__call__\u001b[1;34m(self, substrate, asn1Spec, tagSet, length, state, recursiveFlag, substrateFun, allowEoo)\u001b[0m\n\u001b[0;32m    823\u001b[0m                     value, substrate = concreteDecoder.valueDecoder(\n\u001b[0;32m    824\u001b[0m                         \u001b[0mfullSubstrate\u001b[0m\u001b[1;33m,\u001b[0m \u001b[0msubstrate\u001b[0m\u001b[1;33m,\u001b[0m \u001b[0masn1Spec\u001b[0m\u001b[1;33m,\u001b[0m \u001b[0mtagSet\u001b[0m\u001b[1;33m,\u001b[0m \u001b[0mlength\u001b[0m\u001b[1;33m,\u001b[0m\u001b[1;33m\u001b[0m\u001b[0m\n\u001b[1;32m--> 825\u001b[1;33m                         \u001b[0mstGetValueDecoder\u001b[0m\u001b[1;33m,\u001b[0m \u001b[0mself\u001b[0m\u001b[1;33m,\u001b[0m \u001b[0msubstrateFun\u001b[0m\u001b[1;33m\u001b[0m\u001b[0m\n\u001b[0m\u001b[0;32m    826\u001b[0m                         )\n\u001b[0;32m    827\u001b[0m                 \u001b[0mstate\u001b[0m \u001b[1;33m=\u001b[0m \u001b[0mstStop\u001b[0m\u001b[1;33m\u001b[0m\u001b[0m\n",
      "\u001b[1;32m/usr/local/lib/python2.7/dist-packages/pyasn1/codec/ber/decoder.pyc\u001b[0m in \u001b[0;36mvalueDecoder\u001b[1;34m(self, fullSubstrate, substrate, asn1Spec, tagSet, length, state, decodeFun, substrateFun)\u001b[0m\n\u001b[0;32m     48\u001b[0m                    )\n\u001b[0;32m     49\u001b[0m         \u001b[0mhead\u001b[0m\u001b[1;33m,\u001b[0m \u001b[0mtail\u001b[0m \u001b[1;33m=\u001b[0m \u001b[0msubstrate\u001b[0m\u001b[1;33m[\u001b[0m\u001b[1;33m:\u001b[0m\u001b[0mlength\u001b[0m\u001b[1;33m]\u001b[0m\u001b[1;33m,\u001b[0m \u001b[0msubstrate\u001b[0m\u001b[1;33m[\u001b[0m\u001b[0mlength\u001b[0m\u001b[1;33m:\u001b[0m\u001b[1;33m]\u001b[0m\u001b[1;33m\u001b[0m\u001b[0m\n\u001b[1;32m---> 50\u001b[1;33m         \u001b[0mvalue\u001b[0m\u001b[1;33m,\u001b[0m \u001b[0m_\u001b[0m \u001b[1;33m=\u001b[0m \u001b[0mdecodeFun\u001b[0m\u001b[1;33m(\u001b[0m\u001b[0mhead\u001b[0m\u001b[1;33m,\u001b[0m \u001b[0masn1Spec\u001b[0m\u001b[1;33m,\u001b[0m \u001b[0mtagSet\u001b[0m\u001b[1;33m,\u001b[0m \u001b[0mlength\u001b[0m\u001b[1;33m)\u001b[0m\u001b[1;33m\u001b[0m\u001b[0m\n\u001b[0m\u001b[0;32m     51\u001b[0m         \u001b[1;32mreturn\u001b[0m \u001b[0mvalue\u001b[0m\u001b[1;33m,\u001b[0m \u001b[0mtail\u001b[0m\u001b[1;33m\u001b[0m\u001b[0m\n\u001b[0;32m     52\u001b[0m \u001b[1;33m\u001b[0m\u001b[0m\n",
      "\u001b[1;32m/usr/local/lib/python2.7/dist-packages/pyasn1/codec/ber/decoder.pyc\u001b[0m in \u001b[0;36m__call__\u001b[1;34m(self, substrate, asn1Spec, tagSet, length, state, recursiveFlag, substrateFun, allowEoo)\u001b[0m\n\u001b[0;32m    818\u001b[0m                     value, substrate = concreteDecoder.indefLenValueDecoder(\n\u001b[0;32m    819\u001b[0m                         \u001b[0mfullSubstrate\u001b[0m\u001b[1;33m,\u001b[0m \u001b[0msubstrate\u001b[0m\u001b[1;33m,\u001b[0m \u001b[0masn1Spec\u001b[0m\u001b[1;33m,\u001b[0m \u001b[0mtagSet\u001b[0m\u001b[1;33m,\u001b[0m \u001b[0mlength\u001b[0m\u001b[1;33m,\u001b[0m\u001b[1;33m\u001b[0m\u001b[0m\n\u001b[1;32m--> 820\u001b[1;33m                         \u001b[0mstGetValueDecoder\u001b[0m\u001b[1;33m,\u001b[0m \u001b[0mself\u001b[0m\u001b[1;33m,\u001b[0m \u001b[0msubstrateFun\u001b[0m\u001b[1;33m\u001b[0m\u001b[0m\n\u001b[0m\u001b[0;32m    821\u001b[0m                         )\n\u001b[0;32m    822\u001b[0m                 \u001b[1;32melse\u001b[0m\u001b[1;33m:\u001b[0m\u001b[1;33m\u001b[0m\u001b[0m\n",
      "\u001b[1;32m/usr/local/lib/python2.7/dist-packages/pyasn1/codec/ber/decoder.pyc\u001b[0m in \u001b[0;36mindefLenValueDecoder\u001b[1;34m(self, fullSubstrate, substrate, asn1Spec, tagSet, length, state, decodeFun, substrateFun)\u001b[0m\n\u001b[0;32m     13\u001b[0m     def indefLenValueDecoder(self, fullSubstrate, substrate, asn1Spec, tagSet,\n\u001b[0;32m     14\u001b[0m                              length, state, decodeFun, substrateFun):\n\u001b[1;32m---> 15\u001b[1;33m         \u001b[1;32mraise\u001b[0m \u001b[0merror\u001b[0m\u001b[1;33m.\u001b[0m\u001b[0mPyAsn1Error\u001b[0m\u001b[1;33m(\u001b[0m\u001b[1;34m'Indefinite length mode decoder not implemented for %s'\u001b[0m \u001b[1;33m%\u001b[0m \u001b[1;33m(\u001b[0m\u001b[0mtagSet\u001b[0m\u001b[1;33m,\u001b[0m\u001b[1;33m)\u001b[0m\u001b[1;33m)\u001b[0m\u001b[1;33m\u001b[0m\u001b[0m\n\u001b[0m\u001b[0;32m     16\u001b[0m \u001b[1;33m\u001b[0m\u001b[0m\n\u001b[0;32m     17\u001b[0m \u001b[1;32mclass\u001b[0m \u001b[0mAbstractSimpleDecoder\u001b[0m\u001b[1;33m(\u001b[0m\u001b[0mAbstractDecoder\u001b[0m\u001b[1;33m)\u001b[0m\u001b[1;33m:\u001b[0m\u001b[1;33m\u001b[0m\u001b[0m\n",
      "\u001b[1;31mPyAsn1Error\u001b[0m: Indefinite length mode decoder not implemented for [0:0:9]+[128:32:5]"
     ]
    }
   ],
   "source": [
    "# Decoding Java's AssessmentResponse with SL\n",
    "encoded = base64.b64decode(\"Y4GsEwRlYmF5BgJSAgICJ2owgZtoMhMDZXZlEwZsZXR0ZXICAREhCQmAzAt+9A85mqUJCYDFB+SsrwLgxQkJgMsI4oUu0L8zaDITA2V2ZRMGcmVudGVyAgESIQkJgMsd6b85ElxFCQmAzA2D0rxsTc0JCcDLGPFkser332gxEwNldmUTBWJ1eWVyAgETIQkJgMwJYmN2rNeFCQmAywg7nzF3qK8JCYDLBP+Z4S6oRw==\")\n",
    "data, _ = decoder.decode(encoded, asn1Spec=Message())\n",
    "print(data.prettyPrint())"
   ]
  },
  {
   "cell_type": "code",
   "execution_count": 26,
   "metadata": {
    "collapsed": false
   },
   "outputs": [
    {
     "name": "stdout",
     "output_type": "stream",
     "text": [
      "CgEE\n"
     ]
    }
   ],
   "source": [
    "# encode QTM\n",
    "qtm = QtmDb().AssessmentClass(\"very-good\")\n",
    "decoded, _ = decoder.decode(encoder.encode(qtm), asn1Spec=QtmDb().AssessmentClass())\n",
    "assert(qtm == decoded)\n",
    "print encode(qtm)"
   ]
  },
  {
   "cell_type": "code",
   "execution_count": 27,
   "metadata": {
    "collapsed": false
   },
   "outputs": [
    {
     "name": "stdout",
     "output_type": "stream",
     "text": [
      "aR8TB2JAeC5jb20TB2NAeC5jb20TBWJ1eWVyAgFkCgEE\n"
     ]
    }
   ],
   "source": [
    "# encode assessment with QTM\n",
    "r = Assessment()\n",
    "r[\"source\"] = next(users)\n",
    "r[\"target\"] = next(users)\n",
    "r[\"service\"] = next(services)\n",
    "r[\"date\"] = 100\n",
    "r[\"value\"] = encoder.encode(qtm)\n",
    "\n",
    "decoded, _ = decoder.decode(encoder.encode(r), asn1Spec=Assessment())\n",
    "assert(r == decoded)\n",
    "print encode(r)"
   ]
  },
  {
   "cell_type": "code",
   "execution_count": 28,
   "metadata": {
    "collapsed": false
   },
   "outputs": [
    {
     "name": "stdout",
     "output_type": "stream",
     "text": [
      "Z1UTBGViYXkGAikBAgEBMEZpIRMHYUB4LmNvbRMHYkB4LmNvbRMGc2VsbGVyAgID6AoBBGkhEwdjQHguY29tEwdhQHguY29tEwZsZXR0ZXICAgPoCgEE\n"
     ]
    }
   ],
   "source": [
    "# AssessmentResponse with QTM\n",
    "a_res = AssessmentResponse()\n",
    "a_res[\"provider\"] = Entity(\"ebay\")\n",
    "a_res[\"format\"] = Format((1, 1, 1))\n",
    "a_res[\"rid\"] = 1\n",
    "a_res[\"response\"] = univ.SequenceOf(componentType=Assessment())\n",
    "\n",
    "for i in xrange(2):\n",
    "    qtm = QtmDb().AssessmentClass(\"very-good\")\n",
    "    \n",
    "    a = Assessment()\n",
    "    a[\"source\"] = next(users)\n",
    "    a[\"target\"] = next(users)\n",
    "    a[\"service\"] = next(services)\n",
    "    a[\"date\"] = 1000\n",
    "    a[\"value\"] = encoder.encode(qtm)\n",
    "    a_res[\"response\"].setComponentByPosition(i, a)\n",
    "\n",
    "data, _ = decoder.decode(encoder.encode(a_res), asn1Spec=Message())\n",
    "assert(data.getComponent() == a_res)\n",
    "assert(data.getComponent().prettyPrint() == a_res.prettyPrint())\n",
    "print encode(a_res)"
   ]
  },
  {
   "cell_type": "code",
   "execution_count": 29,
   "metadata": {
    "collapsed": false
   },
   "outputs": [
    {
     "name": "stdout",
     "output_type": "stream",
     "text": [
      "Z3wTBGViYXkGAikBAgEBMG1pNRMHYkB4LmNvbRMHY0B4LmNvbRMGcmVudGVyAgID6DAVCQUDMUUtMQkFAzJFLTEJBQM3RS0xaTQTB2FAeC5jb20TB2JAeC5jb20TBWJ1eWVyAgID6DAVCQUDMUUtMQkFAzJFLTEJBQM3RS0x\n"
     ]
    }
   ],
   "source": [
    "# AssessmentResponse with SL\n",
    "a_res = AssessmentResponse()\n",
    "a_res[\"provider\"] = Entity(\"ebay\")\n",
    "a_res[\"format\"] = Format((1, 1, 1))\n",
    "a_res[\"rid\"] = 1\n",
    "a_res[\"response\"] = univ.SequenceOf(componentType=Assessment())\n",
    "\n",
    "for i in xrange(2):\n",
    "    bdu = SLDb().AssessmentClass()\n",
    "    bdu[\"b\"] = 0.1\n",
    "    bdu[\"d\"] = 0.2\n",
    "    bdu[\"u\"] = 0.7\n",
    "    \n",
    "    a = Assessment()\n",
    "    a[\"source\"] = next(users)\n",
    "    a[\"target\"] = next(users)\n",
    "    a[\"service\"] = next(services)\n",
    "    a[\"date\"] = 1000\n",
    "    a[\"value\"] = encoder.encode(bdu)\n",
    "    a_res[\"response\"].setComponentByPosition(i, a)\n",
    "\n",
    "data, _ = decoder.decode(encoder.encode(a_res), asn1Spec=Message())\n",
    "assert(data.getComponent() == a_res)\n",
    "assert(data.getComponent().prettyPrint() == a_res.prettyPrint())\n",
    "print encode(a_res)"
   ]
  }
 ],
 "metadata": {
  "kernelspec": {
   "display_name": "Python 2",
   "language": "python",
   "name": "python2"
  },
  "language_info": {
   "codemirror_mode": {
    "name": "ipython",
    "version": 2
   },
   "file_extension": ".py",
   "mimetype": "text/x-python",
   "name": "python",
   "nbconvert_exporter": "python",
   "pygments_lexer": "ipython2",
   "version": "2.7.12"
  }
 },
 "nbformat": 4,
 "nbformat_minor": 0
}
