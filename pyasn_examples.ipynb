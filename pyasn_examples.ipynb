{
 "cells": [
  {
   "cell_type": "code",
   "execution_count": 1,
   "metadata": {},
   "outputs": [],
   "source": [
    "from pyasn1.type import univ\n",
    "from pyasn1.type import char\n",
    "from pyasn1.type import tag\n",
    "from pyasn1.type import namedtype\n",
    "from pyasn1.type import constraint\n",
    "from pyasn1.type import namedval\n",
    "from pyasn1.codec.ber import encoder\n",
    "from pyasn1.codec.ber import decoder\n",
    "from trustmessages import *\n",
    "from trustmessages.trustdatabase import QtmDb, SLDb\n",
    "import base64\n",
    "import itertools\n",
    "import sys"
   ]
  },
  {
   "cell_type": "code",
   "execution_count": 2,
   "metadata": {},
   "outputs": [],
   "source": [
    "encode = lambda m: base64.b64encode(encoder.encode(m))\n",
    "users = itertools.cycle([\"a@x.com\", \"b@x.com\", \"c@x.com\"])\n",
    "services = itertools.cycle([\"buyer\", \"seller\", \"letter\", \"renter\"])\n",
    "quantitative = itertools.cycle(range(1, 6))\n",
    "qualitative = itertools.cycle([\"distrust\", \"neutral\", \"trust\"])"
   ]
  },
  {
   "cell_type": "code",
   "execution_count": 3,
   "metadata": {},
   "outputs": [],
   "source": [
    "def get_bytes(e):\n",
    "    if sys.version_info.major == 3:\n",
    "        return str([i for i in encoder.encode(e)])\n",
    "    else:\n",
    "        return str([ord(i) for i in encoder.encode(e)])"
   ]
  },
  {
   "cell_type": "code",
   "execution_count": 4,
   "metadata": {},
   "outputs": [
    {
     "name": "stdout",
     "output_type": "stream",
     "text": [
      "b'ZCEWB2FAeC5jb20WB2JAeC5jb20WBWJ1eWVyAgFkBAMCAQE='\n"
     ]
    }
   ],
   "source": [
    "r = Rating()\n",
    "r[\"source\"] = next(users)\n",
    "r[\"target\"] = next(users)\n",
    "r[\"service\"] = next(services)\n",
    "r[\"date\"] = 100\n",
    "val = next(quantitative)\n",
    "r[\"value\"] = encoder.encode(univ.Integer(val))\n",
    "\n",
    "decoded, _ = decoder.decode(encoder.encode(r), asn1Spec=Rating())\n",
    "assert(r.prettyPrint() == decoded.prettyPrint())\n",
    "assert(decoder.decode(decoded[\"value\"], asn1Spec=univ.Integer())[0] == val)\n",
    "print(encode(r))"
   ]
  },
  {
   "cell_type": "code",
   "execution_count": 5,
   "metadata": {},
   "outputs": [
    {
     "name": "stdout",
     "output_type": "stream",
     "text": [
      "b'ZCkWB2NAeC5jb20WB2FAeC5jb20WBnNlbGxlcgIBZAQKEwhkaXN0cnVzdA=='\n"
     ]
    }
   ],
   "source": [
    "r = Rating()\n",
    "r[\"source\"] = next(users)\n",
    "r[\"target\"] = next(users)\n",
    "r[\"service\"] = next(services)\n",
    "r[\"date\"] = 100\n",
    "val = next(qualitative)\n",
    "r[\"value\"] = encoder.encode(char.PrintableString(val))\n",
    "\n",
    "decoded, _ = decoder.decode(encoder.encode(r), asn1Spec=Rating())\n",
    "assert(r.prettyPrint() == decoded.prettyPrint())\n",
    "assert(decoder.decode(decoded[\"value\"], asn1Spec=char.PrintableString())[0] == val)\n",
    "print(encode(r))"
   ]
  },
  {
   "cell_type": "code",
   "execution_count": 6,
   "metadata": {},
   "outputs": [
    {
     "name": "stdout",
     "output_type": "stream",
     "text": [
      "b'MBMCAQFiDgIBAQoBAGUGCgEFQgFQ'\n"
     ]
    }
   ],
   "source": [
    "a_req = DataRequest()\n",
    "a_req[\"rid\"] = 1\n",
    "a_req[\"type\"] = \"trust\"\n",
    "sq = Query()\n",
    "sq[\"con\"] = Constraint()\n",
    "sq[\"con\"][\"operator\"] = \"ge\"\n",
    "sq[\"con\"][\"value\"] = Value()\n",
    "sq[\"con\"][\"value\"][\"date\"] = 80\n",
    "a_req[\"query\"] = sq\n",
    "\n",
    "m = Message()\n",
    "m[\"version\"] = 1\n",
    "m[\"payload\"] = a_req\n",
    "    \n",
    "decoded, _ = decoder.decode(encoder.encode(m), asn1Spec=Message())\n",
    "assert(decoded == m)\n",
    "assert(decoded[\"payload\"].getComponent().prettyPrint() == m[\"payload\"].prettyPrint())\n",
    "print(encode(m))"
   ]
  },
  {
   "cell_type": "code",
   "execution_count": 7,
   "metadata": {},
   "outputs": [
    {
     "name": "stdout",
     "output_type": "stream",
     "text": [
      "b'MGECAQFjXAIBAQYCKQEKAQAWBGViYXkwSmQjFgdiQHguY29tFgdjQHguY29tFgZsZXR0ZXICAgPoBAMCAQVkIxYHYUB4LmNvbRYHYkB4LmNvbRYGcmVudGVyAgID6AQDAgEF'\n"
     ]
    }
   ],
   "source": [
    "a_res = DataResponse()\n",
    "a_res[\"provider\"] = \"ebay\"\n",
    "a_res[\"type\"] = \"trust\"\n",
    "a_res[\"format\"] = Format((1, 1, 1))\n",
    "a_res[\"rid\"] = 1\n",
    "a_res[\"response\"] = univ.SequenceOf(componentType=Rating())\n",
    "\n",
    "for i in range(2):\n",
    "    a = Rating()\n",
    "    a[\"source\"] = next(users)\n",
    "    a[\"target\"] = next(users)\n",
    "    a[\"service\"] = next(services)\n",
    "    a[\"date\"] = 1000\n",
    "    a[\"value\"] = encoder.encode(univ.Integer(5))\n",
    "    a_res[\"response\"].setComponentByPosition(i, a)\n",
    "\n",
    "m = Message()\n",
    "m[\"version\"] = 1\n",
    "m[\"payload\"] = a_res\n",
    "    \n",
    "decoded, _ = decoder.decode(encoder.encode(m), asn1Spec=Message())\n",
    "assert(decoded == m)\n",
    "assert(decoded[\"payload\"].getComponent().prettyPrint() == m[\"payload\"].prettyPrint())\n",
    "print(encode(m))"
   ]
  },
  {
   "cell_type": "code",
   "execution_count": 8,
   "metadata": {},
   "outputs": [
    {
     "name": "stdout",
     "output_type": "stream",
     "text": [
      "b'MAYCAQFAAWQ='\n"
     ]
    }
   ],
   "source": [
    "f_req = FormatRequest(100)\n",
    "data, _ = decoder.decode(encoder.encode(f_req), asn1Spec=FormatRequest())\n",
    "\n",
    "m = Message()\n",
    "m[\"version\"] = 1\n",
    "m[\"payload\"] = f_req\n",
    "    \n",
    "decoded, _ = decoder.decode(encoder.encode(m), asn1Spec=Message())\n",
    "assert(decoded == m)\n",
    "assert(decoded[\"payload\"].getComponent().prettyPrint() == m[\"payload\"].prettyPrint())\n",
    "print(encode(m))"
   ]
  },
  {
   "cell_type": "code",
   "execution_count": 9,
   "metadata": {},
   "outputs": [
    {
     "name": "stdout",
     "output_type": "stream",
     "text": [
      "b'MGUCAQFhYAIBZAYCKgMWK0hlcmUgYmUgYW4gQVNOLjEgc3BlYyBmb3IgYXNzZXNzbWVudCB2YWx1ZXMGAioDFiZIZXJlIGJlIGFuIEFTTi4xIHNwZWMgZm9yIHRydXN0IHZhbHVlcw=='\n"
     ]
    }
   ],
   "source": [
    "f_res = FormatResponse()\n",
    "f_res[\"rid\"] = 100\n",
    "f_res[\"assessment-id\"] = Format((1, 2, 3))\n",
    "f_res[\"trust-id\"] = Format((1, 2, 3))\n",
    "f_res[\"assessment-def\"] = char.IA5String(\"Here be an ASN.1 spec for assessment values\")\n",
    "f_res[\"trust-def\"] = char.IA5String(\"Here be an ASN.1 spec for trust values\")\n",
    "\n",
    "m = Message()\n",
    "m[\"version\"] = 1\n",
    "m[\"payload\"] = f_res\n",
    "    \n",
    "decoded, _ = decoder.decode(encoder.encode(m), asn1Spec=Message())\n",
    "assert(decoded == m)\n",
    "assert(decoded[\"payload\"].getComponent().prettyPrint() == m[\"payload\"].prettyPrint())\n",
    "print(encode(m))"
   ]
  },
  {
   "cell_type": "code",
   "execution_count": 10,
   "metadata": {},
   "outputs": [
    {
     "name": "stdout",
     "output_type": "stream",
     "text": [
      "b'MB8CAQFnGgIBChYVc29tZXRoaW5nIHdlbnQgd3Jvbmch'\n"
     ]
    }
   ],
   "source": [
    "e = Fault()\n",
    "e[\"rid\"] = 10\n",
    "e[\"message\"] = \"something went wrong!\"\n",
    "\n",
    "data, _ = decoder.decode(encoder.encode(e), asn1Spec=Fault())\n",
    "\n",
    "m = Message()\n",
    "m[\"version\"] = 1\n",
    "m[\"payload\"] = e\n",
    "    \n",
    "decoded, _ = decoder.decode(encoder.encode(m), asn1Spec=Message())\n",
    "assert(decoded == m)\n",
    "assert(decoded[\"payload\"].getComponent().prettyPrint() == m[\"payload\"].prettyPrint())\n",
    "print(encode(m))"
   ]
  },
  {
   "cell_type": "code",
   "execution_count": 11,
   "metadata": {},
   "outputs": [
    {
     "name": "stdout",
     "output_type": "stream",
     "text": [
      "[103, 6, 2, 1, 10, 22, 1, 97]\n",
      "[103, 6, 2, 1, 10, 22, 1, 98]\n"
     ]
    }
   ],
   "source": [
    "e1 = Fault()\n",
    "e1[\"rid\"] = 10\n",
    "e1[\"message\"] = \"a\"\n",
    "\n",
    "e2 = Fault()\n",
    "e2[\"rid\"] = 10\n",
    "e2[\"message\"] = \"b\"\n",
    "\n",
    "print(get_bytes(e1))\n",
    "print(get_bytes(e2))"
   ]
  },
  {
   "cell_type": "code",
   "execution_count": 12,
   "metadata": {},
   "outputs": [
    {
     "name": "stdout",
     "output_type": "stream",
     "text": [
      "b'MBUJBQMxRS0xCQUDMkUtMQkFAzdFLTE='\n"
     ]
    }
   ],
   "source": [
    "# Encode SL\n",
    "bdu = SLDb().AssessmentClass()\n",
    "bdu[\"b\"] = 0.1\n",
    "bdu[\"d\"] = 0.2\n",
    "bdu[\"u\"] = 0.7\n",
    "\n",
    "decoded, _ = decoder.decode(encoder.encode(bdu), asn1Spec=SLDb().AssessmentClass())\n",
    "assert(bdu == decoded)\n",
    "print(encode(bdu))"
   ]
  },
  {
   "cell_type": "code",
   "execution_count": 13,
   "metadata": {},
   "outputs": [
    {
     "name": "stdout",
     "output_type": "stream",
     "text": [
      "b'ZDUWB2NAeC5jb20WB2FAeC5jb20WBWJ1eWVyAgFkBBcwFQkFAzFFLTEJBQMyRS0xCQUDN0UtMQ=='\n"
     ]
    }
   ],
   "source": [
    "# encode Data with SL\n",
    "r = Rating()\n",
    "r[\"source\"] = next(users)\n",
    "r[\"target\"] = next(users)\n",
    "r[\"service\"] = next(services)\n",
    "r[\"date\"] = 100\n",
    "r[\"value\"] = encoder.encode(bdu)\n",
    "\n",
    "decoded, _ = decoder.decode(encoder.encode(r), asn1Spec=Rating())\n",
    "assert(r == decoded)\n",
    "print(encode(r))"
   ]
  },
  {
   "cell_type": "code",
   "execution_count": 14,
   "metadata": {},
   "outputs": [],
   "source": [
    "# decode SL from Java\n",
    "bytes = base64.decodebytes(b\"MCEJCYDJDMzMzMzMzQkJgMoMzMzMzMzNCQmAzAszMzMzMzM=\")\n",
    "bdu, _ = decoder.decode(bytes, asn1Spec=SLDb().AssessmentClass())\n",
    "assert bdu[\"b\"] == 0.1\n",
    "assert bdu[\"d\"] == 0.2\n",
    "assert bdu[\"u\"] == 0.7"
   ]
  },
  {
   "cell_type": "code",
   "execution_count": 15,
   "metadata": {},
   "outputs": [],
   "source": [
    "# decode Java's Data@SL\n",
    "bytes = base64.decodebytes(b\"ZDwWBWFsaWNlFgNib2IWBnNlbGxlcgIBCgQjMCEJCYDJDMzMzMzMzQkJgMoMzMzMzMzNCQmAzAszMzMzMzM=\")\n",
    "a, _ = decoder.decode(bytes, asn1Spec=Rating())\n",
    "bdu, _ = decoder.decode(a[\"value\"], asn1Spec=SLDb().AssessmentClass())\n",
    "assert bdu[\"b\"] == 0.1\n",
    "assert bdu[\"d\"] == 0.2\n",
    "assert bdu[\"u\"] == 0.7"
   ]
  },
  {
   "cell_type": "code",
   "execution_count": 16,
   "metadata": {},
   "outputs": [],
   "source": [
    "# TODO: decode Java's DataResponse@SL\n",
    "bytes = base64.decodebytes(b\"MIGoAgEBY4GiAgEBBgIpAQoBARYHc29tZXRtc\"\n",
    "                            b\"zCBjGREFgVhbGljZRYLeW91QHlvdS5jb20WBn\"\n",
    "                            b\"NlbGxlcgIBCgQjMCEJCYDJDMzMzMzMzQkJgMo\"\n",
    "                            b\"MzMzMzMzNCQmAzAszMzMzMzNkRBYFYWxpY2UW\"\n",
    "                            b\"C3lvdUB5b3UuY29tFgZzZWxsZXICAQoEIzAhC\"\n",
    "                            b\"QmAyQzMzMzMzM0JCYDKDMzMzMzMzQkJgMwLMz\"\n",
    "                            b\"MzMzMz\")\n",
    "m, _ = decoder.decode(bytes, asn1Spec=Message())\n",
    "assert m[\"version\"] == 1\n",
    "for a in m[\"payload\"][\"data-response\"][\"response\"]:\n",
    "    bdu, _ = decoder.decode(a[\"value\"], asn1Spec=SLDb().AssessmentClass())\n",
    "    assert bdu[\"b\"] == 0.1\n",
    "    assert bdu[\"d\"] == 0.2\n",
    "    assert bdu[\"u\"] == 0.7"
   ]
  },
  {
   "cell_type": "code",
   "execution_count": 17,
   "metadata": {},
   "outputs": [
    {
     "name": "stdout",
     "output_type": "stream",
     "text": [
      "b'CgEE'\n"
     ]
    }
   ],
   "source": [
    "# encode QTM\n",
    "qtm = QtmDb().AssessmentClass(\"very-good\")\n",
    "decoded, _ = decoder.decode(encoder.encode(qtm), asn1Spec=QtmDb().AssessmentClass())\n",
    "assert(qtm == decoded)\n",
    "print(encode(qtm))"
   ]
  },
  {
   "cell_type": "code",
   "execution_count": 18,
   "metadata": {},
   "outputs": [
    {
     "name": "stdout",
     "output_type": "stream",
     "text": [
      "b'ZCIWB2JAeC5jb20WB2NAeC5jb20WBnNlbGxlcgIBZAQDCgEE'\n"
     ]
    }
   ],
   "source": [
    "# encode Data with QTM\n",
    "r = Rating()\n",
    "r[\"source\"] = next(users)\n",
    "r[\"target\"] = next(users)\n",
    "r[\"service\"] = next(services)\n",
    "r[\"date\"] = 100\n",
    "r[\"value\"] = encoder.encode(qtm)\n",
    "\n",
    "decoded, _ = decoder.decode(encoder.encode(r), asn1Spec=Rating())\n",
    "assert(r == decoded)\n",
    "print(encode(r))"
   ]
  },
  {
   "cell_type": "code",
   "execution_count": 19,
   "metadata": {},
   "outputs": [
    {
     "name": "stdout",
     "output_type": "stream",
     "text": [
      "b'Y1wCAQEGAikBCgEBFgRlYmF5MEpkIxYHYUB4LmNvbRYHYkB4LmNvbRYGbGV0dGVyAgID6AQDCgEEZCMWB2NAeC5jb20WB2FAeC5jb20WBnJlbnRlcgICA+gEAwoBBA=='\n"
     ]
    }
   ],
   "source": [
    "# DataResponse with QTM\n",
    "a_res = DataResponse()\n",
    "a_res[\"provider\"] = \"ebay\"\n",
    "a_res[\"format\"] = Format((1, 1, 1))\n",
    "a_res[\"type\"] = \"assessment\"\n",
    "a_res[\"rid\"] = 1\n",
    "a_res[\"response\"] = univ.SequenceOf(componentType=Rating())\n",
    "\n",
    "for i in range(2):\n",
    "    qtm = QtmDb().AssessmentClass(\"very-good\")\n",
    "    \n",
    "    a = Rating()\n",
    "    a[\"source\"] = next(users)\n",
    "    a[\"target\"] = next(users)\n",
    "    a[\"service\"] = next(services)\n",
    "    a[\"date\"] = 1000\n",
    "    a[\"value\"] = encoder.encode(qtm)\n",
    "    a_res[\"response\"].setComponentByPosition(i, a)\n",
    "\n",
    "data, _ = decoder.decode(encoder.encode(a_res), asn1Spec=DataResponse())\n",
    "assert(data == a_res)\n",
    "assert(data.prettyPrint() == a_res.prettyPrint())\n",
    "print(encode(a_res))"
   ]
  },
  {
   "cell_type": "code",
   "execution_count": 20,
   "metadata": {},
   "outputs": [
    {
     "name": "stdout",
     "output_type": "stream",
     "text": [
      "b'Y4GDAgEBBgIpAQoBARYEZWJheTBxZDYWB2JAeC5jb20WB2NAeC5jb20WBWJ1eWVyAgID6AQXMBUJBQMxRS0xCQUDMkUtMQkFAzdFLTFkNxYHYUB4LmNvbRYHYkB4LmNvbRYGc2VsbGVyAgID6AQXMBUJBQMxRS0xCQUDMkUtMQkFAzdFLTE='\n"
     ]
    }
   ],
   "source": [
    "# AssessmentResponse with SL\n",
    "a_res = DataResponse()\n",
    "a_res[\"provider\"] = \"ebay\"\n",
    "a_res[\"format\"] = Format((1, 1, 1))\n",
    "a_res[\"rid\"] = 1\n",
    "a_res[\"type\"] = \"assessment\"\n",
    "a_res[\"response\"] = univ.SequenceOf(componentType=Rating())\n",
    "\n",
    "for i in range(2):\n",
    "    bdu = SLDb().AssessmentClass()\n",
    "    bdu[\"b\"] = 0.1\n",
    "    bdu[\"d\"] = 0.2\n",
    "    bdu[\"u\"] = 0.7\n",
    "    \n",
    "    a = Rating()\n",
    "    a[\"source\"] = next(users)\n",
    "    a[\"target\"] = next(users)\n",
    "    a[\"service\"] = next(services)\n",
    "    a[\"date\"] = 1000\n",
    "    a[\"value\"] = encoder.encode(bdu)\n",
    "    a_res[\"response\"].setComponentByPosition(i, a)\n",
    "\n",
    "data, _ = decoder.decode(encoder.encode(a_res), asn1Spec=DataResponse())\n",
    "assert(data == a_res)\n",
    "assert(data.prettyPrint() == a_res.prettyPrint())\n",
    "print(encode(a_res))"
   ]
  },
  {
   "cell_type": "code",
   "execution_count": 21,
   "metadata": {},
   "outputs": [],
   "source": [
    "m = Message()\n",
    "m[\"version\"] = 1\n",
    "m[\"payload\"] = a_req\n",
    "\n",
    "data, _ = decoder.decode(encoder.encode(m), asn1Spec=Message())\n",
    "assert(data == m)\n",
    "assert(encode(data) == encode(m))"
   ]
  }
 ],
 "metadata": {
  "kernelspec": {
   "display_name": "Python 3",
   "language": "python",
   "name": "python3"
  },
  "language_info": {
   "codemirror_mode": {
    "name": "ipython",
    "version": 3
   },
   "file_extension": ".py",
   "mimetype": "text/x-python",
   "name": "python",
   "nbconvert_exporter": "python",
   "pygments_lexer": "ipython3",
   "version": "3.6.6"
  },
  "widgets": {
   "state": {},
   "version": "1.1.1"
  }
 },
 "nbformat": 4,
 "nbformat_minor": 1
}
